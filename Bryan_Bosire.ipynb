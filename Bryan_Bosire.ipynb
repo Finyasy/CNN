{
  "nbformat": 4,
  "nbformat_minor": 0,
  "metadata": {
    "kernelspec": {
      "display_name": "Python 3",
      "language": "python",
      "name": "python3"
    },
    "language_info": {
      "codemirror_mode": {
        "name": "ipython",
        "version": 3
      },
      "file_extension": ".py",
      "mimetype": "text/x-python",
      "name": "python",
      "nbconvert_exporter": "python",
      "pygments_lexer": "ipython3",
      "version": "3.8.3"
    },
    "colab": {
      "name": "Bryan_Bosire.ipynb",
      "provenance": [],
      "collapsed_sections": [],
      "include_colab_link": true
    }
  },
  "cells": [
    {
      "cell_type": "markdown",
      "metadata": {
        "id": "view-in-github",
        "colab_type": "text"
      },
      "source": [
        "<a href=\"https://colab.research.google.com/github/Finyasy/CNN/blob/main/Bryan_Bosire.ipynb\" target=\"_parent\"><img src=\"https://colab.research.google.com/assets/colab-badge.svg\" alt=\"Open In Colab\"/></a>"
      ]
    },
    {
      "cell_type": "code",
      "metadata": {
        "id": "b_V5W7E_NrqY"
      },
      "source": [
        "import pandas as pd #for data importing and manipulation\n",
        "import numpy as np #for data manipulation and cleaning\n",
        "import seaborn as sns #data visualization\n",
        "import matplotlib.pyplot as plt #data visualization\n",
        "%matplotlib inline\n",
        " \n",
        "from sklearn.metrics import confusion_matrix, accuracy_score\n",
        "from sklearn.model_selection import train_test_split, cross_val_score,GridSearchCV, KFold, RandomizedSearchCV\n",
        "from sklearn.ensemble import RandomForestClassifier, AdaBoostClassifier, GradientBoostingClassifier"
      ],
      "execution_count": null,
      "outputs": []
    },
    {
      "cell_type": "code",
      "metadata": {
        "colab": {
          "resources": {
            "http://localhost:8080/nbextensions/google.colab/files.js": {
              "data": "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",
              "ok": true,
              "headers": [
                [
                  "content-type",
                  "application/javascript"
                ]
              ],
              "status": 200,
              "status_text": ""
            }
          },
          "base_uri": "https://localhost:8080/",
          "height": 108
        },
        "id": "f6y2BFM2OYYP",
        "outputId": "f9635246-0269-4651-df01-9580d6bf51c1"
      },
      "source": [
        "#loading the datasets\n",
        "#data = pd.read_csv(r\"C:\\Users\\bryan\\Downloads\\Bosire.csv\")\n",
        "from google.colab import files\n",
        "uploaded = files.upload()\n",
        "\n",
        "#data.head()\n",
        "import io\n",
        "train_data = pd.read_csv(io.BytesIO(uploaded['Bosire.csv']))\n",
        "test_data = pd.read_csv(io.BytesIO(uploaded['Bosire2.csv']))"
      ],
      "execution_count": null,
      "outputs": [
        {
          "output_type": "display_data",
          "data": {
            "text/html": [
              "\n",
              "     <input type=\"file\" id=\"files-1e76a062-3e26-4e6a-abdf-5555583592a5\" name=\"files[]\" multiple disabled\n",
              "        style=\"border:none\" />\n",
              "     <output id=\"result-1e76a062-3e26-4e6a-abdf-5555583592a5\">\n",
              "      Upload widget is only available when the cell has been executed in the\n",
              "      current browser session. Please rerun this cell to enable.\n",
              "      </output>\n",
              "      <script src=\"/nbextensions/google.colab/files.js\"></script> "
            ],
            "text/plain": [
              "<IPython.core.display.HTML object>"
            ]
          },
          "metadata": {}
        },
        {
          "output_type": "stream",
          "name": "stdout",
          "text": [
            "Saving Bosire2.csv to Bosire2 (5).csv\n",
            "Saving Bosire.csv to Bosire (5).csv\n"
          ]
        }
      ]
    },
    {
      "cell_type": "code",
      "metadata": {
        "colab": {
          "base_uri": "https://localhost:8080/",
          "height": 224
        },
        "id": "BOFjYWMxq8Sv",
        "outputId": "584642f0-89f1-4b18-df0a-80c3184b05b9"
      },
      "source": [
        "train_data.head()"
      ],
      "execution_count": null,
      "outputs": [
        {
          "output_type": "execute_result",
          "data": {
            "text/html": [
              "<div>\n",
              "<style scoped>\n",
              "    .dataframe tbody tr th:only-of-type {\n",
              "        vertical-align: middle;\n",
              "    }\n",
              "\n",
              "    .dataframe tbody tr th {\n",
              "        vertical-align: top;\n",
              "    }\n",
              "\n",
              "    .dataframe thead th {\n",
              "        text-align: right;\n",
              "    }\n",
              "</style>\n",
              "<table border=\"1\" class=\"dataframe\">\n",
              "  <thead>\n",
              "    <tr style=\"text-align: right;\">\n",
              "      <th></th>\n",
              "      <th>CUST_TXN_DATE</th>\n",
              "      <th>CUST_ID_ACCT1</th>\n",
              "      <th>DEPOSIT_AMNT_MPSA</th>\n",
              "      <th>RCVD_AMNT_MPSA</th>\n",
              "      <th>TRSF_FROM_BANK_TO_MPESA_AMNT</th>\n",
              "      <th>MPSA_CREDITS</th>\n",
              "      <th>DAYS_ARTM_LESS_2</th>\n",
              "      <th>X_NR_TOT_LOAN_AMNT_OKOA_JAZI</th>\n",
              "      <th>LOAN_AGE_DAYS</th>\n",
              "    </tr>\n",
              "  </thead>\n",
              "  <tbody>\n",
              "    <tr>\n",
              "      <th>0</th>\n",
              "      <td>20160201</td>\n",
              "      <td>3008009</td>\n",
              "      <td>27590</td>\n",
              "      <td>53226.0</td>\n",
              "      <td>0.0</td>\n",
              "      <td>80816.0</td>\n",
              "      <td>139</td>\n",
              "      <td>800.0</td>\n",
              "      <td>5</td>\n",
              "    </tr>\n",
              "    <tr>\n",
              "      <th>1</th>\n",
              "      <td>20160201</td>\n",
              "      <td>12083048</td>\n",
              "      <td>2140</td>\n",
              "      <td>0.0</td>\n",
              "      <td>2170.0</td>\n",
              "      <td>4310.0</td>\n",
              "      <td>154</td>\n",
              "      <td>0.0</td>\n",
              "      <td>8</td>\n",
              "    </tr>\n",
              "    <tr>\n",
              "      <th>2</th>\n",
              "      <td>20160201</td>\n",
              "      <td>12930260</td>\n",
              "      <td>25700</td>\n",
              "      <td>37974.0</td>\n",
              "      <td>38972.0</td>\n",
              "      <td>102646.0</td>\n",
              "      <td>1</td>\n",
              "      <td>0.0</td>\n",
              "      <td>27</td>\n",
              "    </tr>\n",
              "    <tr>\n",
              "      <th>3</th>\n",
              "      <td>20160201</td>\n",
              "      <td>6422098</td>\n",
              "      <td>9250</td>\n",
              "      <td>2180.0</td>\n",
              "      <td>0.0</td>\n",
              "      <td>11430.0</td>\n",
              "      <td>64</td>\n",
              "      <td>0.0</td>\n",
              "      <td>5</td>\n",
              "    </tr>\n",
              "    <tr>\n",
              "      <th>4</th>\n",
              "      <td>20160201</td>\n",
              "      <td>5395787</td>\n",
              "      <td>102401</td>\n",
              "      <td>7169.0</td>\n",
              "      <td>0.0</td>\n",
              "      <td>109570.0</td>\n",
              "      <td>53</td>\n",
              "      <td>450.0</td>\n",
              "      <td>31</td>\n",
              "    </tr>\n",
              "  </tbody>\n",
              "</table>\n",
              "</div>"
            ],
            "text/plain": [
              "   CUST_TXN_DATE  CUST_ID_ACCT1  ...  X_NR_TOT_LOAN_AMNT_OKOA_JAZI  LOAN_AGE_DAYS\n",
              "0       20160201        3008009  ...                         800.0              5\n",
              "1       20160201       12083048  ...                           0.0              8\n",
              "2       20160201       12930260  ...                           0.0             27\n",
              "3       20160201        6422098  ...                           0.0              5\n",
              "4       20160201        5395787  ...                         450.0             31\n",
              "\n",
              "[5 rows x 9 columns]"
            ]
          },
          "metadata": {},
          "execution_count": 154
        }
      ]
    },
    {
      "cell_type": "code",
      "metadata": {
        "colab": {
          "base_uri": "https://localhost:8080/",
          "height": 224
        },
        "id": "8UnZ0sxoFdRY",
        "outputId": "e839b955-270f-4667-a980-56e88b969018"
      },
      "source": [
        "test_data.head()"
      ],
      "execution_count": null,
      "outputs": [
        {
          "output_type": "execute_result",
          "data": {
            "text/html": [
              "<div>\n",
              "<style scoped>\n",
              "    .dataframe tbody tr th:only-of-type {\n",
              "        vertical-align: middle;\n",
              "    }\n",
              "\n",
              "    .dataframe tbody tr th {\n",
              "        vertical-align: top;\n",
              "    }\n",
              "\n",
              "    .dataframe thead th {\n",
              "        text-align: right;\n",
              "    }\n",
              "</style>\n",
              "<table border=\"1\" class=\"dataframe\">\n",
              "  <thead>\n",
              "    <tr style=\"text-align: right;\">\n",
              "      <th></th>\n",
              "      <th>CUST_TXN_DATE</th>\n",
              "      <th>CUST_ID_ACCT1</th>\n",
              "      <th>DEPOSIT_AMNT_MPSA</th>\n",
              "      <th>RCVD_AMNT_MPSA</th>\n",
              "      <th>TRSF_FROM_BANK_TO_MPESA_AMNT</th>\n",
              "      <th>MPSA_CREDITS</th>\n",
              "      <th>DAYS_ARTM_LESS_2</th>\n",
              "      <th>X_NR_TOT_LOAN_AMNT_OKOA_JAZI</th>\n",
              "      <th>LOAN_AGE_DAYS</th>\n",
              "    </tr>\n",
              "  </thead>\n",
              "  <tbody>\n",
              "    <tr>\n",
              "      <th>0</th>\n",
              "      <td>20160209</td>\n",
              "      <td>906645</td>\n",
              "      <td>0</td>\n",
              "      <td>4682</td>\n",
              "      <td>0</td>\n",
              "      <td>4682</td>\n",
              "      <td>45</td>\n",
              "      <td>10.0</td>\n",
              "      <td>30</td>\n",
              "    </tr>\n",
              "    <tr>\n",
              "      <th>1</th>\n",
              "      <td>20160209</td>\n",
              "      <td>5649252</td>\n",
              "      <td>4860</td>\n",
              "      <td>5600</td>\n",
              "      <td>0</td>\n",
              "      <td>10460</td>\n",
              "      <td>137</td>\n",
              "      <td>0.0</td>\n",
              "      <td>31</td>\n",
              "    </tr>\n",
              "    <tr>\n",
              "      <th>2</th>\n",
              "      <td>20160209</td>\n",
              "      <td>8483557</td>\n",
              "      <td>9000</td>\n",
              "      <td>0</td>\n",
              "      <td>0</td>\n",
              "      <td>9000</td>\n",
              "      <td>0</td>\n",
              "      <td>0.0</td>\n",
              "      <td>307</td>\n",
              "    </tr>\n",
              "    <tr>\n",
              "      <th>3</th>\n",
              "      <td>20160209</td>\n",
              "      <td>10471136</td>\n",
              "      <td>1860</td>\n",
              "      <td>14320</td>\n",
              "      <td>0</td>\n",
              "      <td>16180</td>\n",
              "      <td>70</td>\n",
              "      <td>0.0</td>\n",
              "      <td>20</td>\n",
              "    </tr>\n",
              "    <tr>\n",
              "      <th>4</th>\n",
              "      <td>20160209</td>\n",
              "      <td>3536501</td>\n",
              "      <td>2227</td>\n",
              "      <td>2573</td>\n",
              "      <td>0</td>\n",
              "      <td>4800</td>\n",
              "      <td>101</td>\n",
              "      <td>990.0</td>\n",
              "      <td>19</td>\n",
              "    </tr>\n",
              "  </tbody>\n",
              "</table>\n",
              "</div>"
            ],
            "text/plain": [
              "   CUST_TXN_DATE  CUST_ID_ACCT1  ...  X_NR_TOT_LOAN_AMNT_OKOA_JAZI  LOAN_AGE_DAYS\n",
              "0       20160209         906645  ...                          10.0             30\n",
              "1       20160209        5649252  ...                           0.0             31\n",
              "2       20160209        8483557  ...                           0.0            307\n",
              "3       20160209       10471136  ...                           0.0             20\n",
              "4       20160209        3536501  ...                         990.0             19\n",
              "\n",
              "[5 rows x 9 columns]"
            ]
          },
          "metadata": {},
          "execution_count": 155
        }
      ]
    },
    {
      "cell_type": "code",
      "metadata": {
        "colab": {
          "base_uri": "https://localhost:8080/"
        },
        "id": "RXeHBTNiNrqe",
        "outputId": "d628db3e-c616-4e1c-94f4-92f9f09e018e"
      },
      "source": [
        "len(train_data),len(test_data)"
      ],
      "execution_count": null,
      "outputs": [
        {
          "output_type": "execute_result",
          "data": {
            "text/plain": [
              "(10329, 917)"
            ]
          },
          "metadata": {},
          "execution_count": 156
        }
      ]
    },
    {
      "cell_type": "markdown",
      "metadata": {
        "id": "OpwsKp9T0xOn"
      },
      "source": [
        "# **DATA VALIDATION**"
      ]
    },
    {
      "cell_type": "code",
      "metadata": {
        "scrolled": false,
        "colab": {
          "base_uri": "https://localhost:8080/"
        },
        "id": "5GndWMfbNrqh",
        "outputId": "9aa27dd9-d999-46ee-9890-f352bd1556b4"
      },
      "source": [
        "#checking missing values in our data\n",
        "train_data.isnull().sum()"
      ],
      "execution_count": null,
      "outputs": [
        {
          "output_type": "execute_result",
          "data": {
            "text/plain": [
              "CUST_TXN_DATE                   0\n",
              "CUST_ID_ACCT1                   0\n",
              "DEPOSIT_AMNT_MPSA               0\n",
              "RCVD_AMNT_MPSA                  0\n",
              "TRSF_FROM_BANK_TO_MPESA_AMNT    0\n",
              "MPSA_CREDITS                    0\n",
              "DAYS_ARTM_LESS_2                0\n",
              "X_NR_TOT_LOAN_AMNT_OKOA_JAZI    0\n",
              "LOAN_AGE_DAYS                   0\n",
              "dtype: int64"
            ]
          },
          "metadata": {},
          "execution_count": 157
        }
      ]
    },
    {
      "cell_type": "code",
      "metadata": {
        "colab": {
          "base_uri": "https://localhost:8080/"
        },
        "id": "Y71OqyNgFrEc",
        "outputId": "7636749b-b7ad-47ab-f902-b47a38292064"
      },
      "source": [
        "test_data.isnull().sum()"
      ],
      "execution_count": null,
      "outputs": [
        {
          "output_type": "execute_result",
          "data": {
            "text/plain": [
              "CUST_TXN_DATE                   0\n",
              "CUST_ID_ACCT1                   0\n",
              "DEPOSIT_AMNT_MPSA               0\n",
              "RCVD_AMNT_MPSA                  0\n",
              "TRSF_FROM_BANK_TO_MPESA_AMNT    0\n",
              "MPSA_CREDITS                    0\n",
              "DAYS_ARTM_LESS_2                0\n",
              "X_NR_TOT_LOAN_AMNT_OKOA_JAZI    0\n",
              "LOAN_AGE_DAYS                   0\n",
              "dtype: int64"
            ]
          },
          "metadata": {},
          "execution_count": 158
        }
      ]
    },
    {
      "cell_type": "code",
      "metadata": {
        "colab": {
          "base_uri": "https://localhost:8080/"
        },
        "id": "YK2k7_r7rY3F",
        "outputId": "5c5e49b2-869c-4541-b0e7-d01d09b1e2ae"
      },
      "source": [
        "train_data.info()"
      ],
      "execution_count": null,
      "outputs": [
        {
          "output_type": "stream",
          "name": "stdout",
          "text": [
            "<class 'pandas.core.frame.DataFrame'>\n",
            "RangeIndex: 10329 entries, 0 to 10328\n",
            "Data columns (total 9 columns):\n",
            " #   Column                        Non-Null Count  Dtype  \n",
            "---  ------                        --------------  -----  \n",
            " 0   CUST_TXN_DATE                 10329 non-null  int64  \n",
            " 1   CUST_ID_ACCT1                 10329 non-null  int64  \n",
            " 2   DEPOSIT_AMNT_MPSA             10329 non-null  int64  \n",
            " 3   RCVD_AMNT_MPSA                10329 non-null  float64\n",
            " 4   TRSF_FROM_BANK_TO_MPESA_AMNT  10329 non-null  float64\n",
            " 5   MPSA_CREDITS                  10329 non-null  float64\n",
            " 6   DAYS_ARTM_LESS_2              10329 non-null  int64  \n",
            " 7   X_NR_TOT_LOAN_AMNT_OKOA_JAZI  10329 non-null  float64\n",
            " 8   LOAN_AGE_DAYS                 10329 non-null  int64  \n",
            "dtypes: float64(4), int64(5)\n",
            "memory usage: 726.4 KB\n"
          ]
        }
      ]
    },
    {
      "cell_type": "code",
      "metadata": {
        "colab": {
          "base_uri": "https://localhost:8080/"
        },
        "id": "xA3HnEs4rqan",
        "outputId": "64e6b782-c980-4c7d-9dc7-e961f5a47010"
      },
      "source": [
        "test_data.info()"
      ],
      "execution_count": null,
      "outputs": [
        {
          "output_type": "stream",
          "name": "stdout",
          "text": [
            "<class 'pandas.core.frame.DataFrame'>\n",
            "RangeIndex: 917 entries, 0 to 916\n",
            "Data columns (total 9 columns):\n",
            " #   Column                        Non-Null Count  Dtype  \n",
            "---  ------                        --------------  -----  \n",
            " 0   CUST_TXN_DATE                 917 non-null    int64  \n",
            " 1   CUST_ID_ACCT1                 917 non-null    int64  \n",
            " 2   DEPOSIT_AMNT_MPSA             917 non-null    int64  \n",
            " 3   RCVD_AMNT_MPSA                917 non-null    int64  \n",
            " 4   TRSF_FROM_BANK_TO_MPESA_AMNT  917 non-null    int64  \n",
            " 5   MPSA_CREDITS                  917 non-null    int64  \n",
            " 6   DAYS_ARTM_LESS_2              917 non-null    int64  \n",
            " 7   X_NR_TOT_LOAN_AMNT_OKOA_JAZI  917 non-null    float64\n",
            " 8   LOAN_AGE_DAYS                 917 non-null    int64  \n",
            "dtypes: float64(1), int64(8)\n",
            "memory usage: 64.6 KB\n"
          ]
        }
      ]
    },
    {
      "cell_type": "code",
      "metadata": {
        "colab": {
          "base_uri": "https://localhost:8080/",
          "height": 317
        },
        "id": "d9xbrHJlNrqi",
        "outputId": "9e393ea4-4d0c-489d-eb9e-8576b71258d7"
      },
      "source": [
        "#data.describe gives us a summary statistics such as count,mean,standard deviation,minimum,maximum and quantiles of data\n",
        "train_data.describe()"
      ],
      "execution_count": null,
      "outputs": [
        {
          "output_type": "execute_result",
          "data": {
            "text/html": [
              "<div>\n",
              "<style scoped>\n",
              "    .dataframe tbody tr th:only-of-type {\n",
              "        vertical-align: middle;\n",
              "    }\n",
              "\n",
              "    .dataframe tbody tr th {\n",
              "        vertical-align: top;\n",
              "    }\n",
              "\n",
              "    .dataframe thead th {\n",
              "        text-align: right;\n",
              "    }\n",
              "</style>\n",
              "<table border=\"1\" class=\"dataframe\">\n",
              "  <thead>\n",
              "    <tr style=\"text-align: right;\">\n",
              "      <th></th>\n",
              "      <th>CUST_TXN_DATE</th>\n",
              "      <th>CUST_ID_ACCT1</th>\n",
              "      <th>DEPOSIT_AMNT_MPSA</th>\n",
              "      <th>RCVD_AMNT_MPSA</th>\n",
              "      <th>TRSF_FROM_BANK_TO_MPESA_AMNT</th>\n",
              "      <th>MPSA_CREDITS</th>\n",
              "      <th>DAYS_ARTM_LESS_2</th>\n",
              "      <th>X_NR_TOT_LOAN_AMNT_OKOA_JAZI</th>\n",
              "      <th>LOAN_AGE_DAYS</th>\n",
              "    </tr>\n",
              "  </thead>\n",
              "  <tbody>\n",
              "    <tr>\n",
              "      <th>count</th>\n",
              "      <td>1.032900e+04</td>\n",
              "      <td>1.032900e+04</td>\n",
              "      <td>1.032900e+04</td>\n",
              "      <td>1.032900e+04</td>\n",
              "      <td>1.032900e+04</td>\n",
              "      <td>1.032900e+04</td>\n",
              "      <td>10329.000000</td>\n",
              "      <td>10329.000000</td>\n",
              "      <td>10329.000000</td>\n",
              "    </tr>\n",
              "    <tr>\n",
              "      <th>mean</th>\n",
              "      <td>2.016021e+07</td>\n",
              "      <td>8.416440e+06</td>\n",
              "      <td>1.860261e+04</td>\n",
              "      <td>3.060607e+04</td>\n",
              "      <td>5.412641e+03</td>\n",
              "      <td>5.462133e+04</td>\n",
              "      <td>84.179979</td>\n",
              "      <td>309.797822</td>\n",
              "      <td>45.805305</td>\n",
              "    </tr>\n",
              "    <tr>\n",
              "      <th>std</th>\n",
              "      <td>7.900788e+00</td>\n",
              "      <td>3.707265e+06</td>\n",
              "      <td>1.331564e+05</td>\n",
              "      <td>1.892388e+05</td>\n",
              "      <td>4.106180e+04</td>\n",
              "      <td>2.543278e+05</td>\n",
              "      <td>54.897796</td>\n",
              "      <td>1139.253170</td>\n",
              "      <td>78.756136</td>\n",
              "    </tr>\n",
              "    <tr>\n",
              "      <th>min</th>\n",
              "      <td>2.016020e+07</td>\n",
              "      <td>5.150000e+02</td>\n",
              "      <td>0.000000e+00</td>\n",
              "      <td>0.000000e+00</td>\n",
              "      <td>0.000000e+00</td>\n",
              "      <td>0.000000e+00</td>\n",
              "      <td>0.000000</td>\n",
              "      <td>0.000000</td>\n",
              "      <td>1.000000</td>\n",
              "    </tr>\n",
              "    <tr>\n",
              "      <th>25%</th>\n",
              "      <td>2.016021e+07</td>\n",
              "      <td>5.746064e+06</td>\n",
              "      <td>2.500000e+02</td>\n",
              "      <td>2.200000e+02</td>\n",
              "      <td>0.000000e+00</td>\n",
              "      <td>4.684000e+03</td>\n",
              "      <td>35.000000</td>\n",
              "      <td>0.000000</td>\n",
              "      <td>10.000000</td>\n",
              "    </tr>\n",
              "    <tr>\n",
              "      <th>50%</th>\n",
              "      <td>2.016022e+07</td>\n",
              "      <td>9.519227e+06</td>\n",
              "      <td>2.790000e+03</td>\n",
              "      <td>3.854000e+03</td>\n",
              "      <td>0.000000e+00</td>\n",
              "      <td>1.277400e+04</td>\n",
              "      <td>95.000000</td>\n",
              "      <td>0.000000</td>\n",
              "      <td>20.000000</td>\n",
              "    </tr>\n",
              "    <tr>\n",
              "      <th>75%</th>\n",
              "      <td>2.016022e+07</td>\n",
              "      <td>1.122943e+07</td>\n",
              "      <td>9.670000e+03</td>\n",
              "      <td>1.756400e+04</td>\n",
              "      <td>0.000000e+00</td>\n",
              "      <td>3.503000e+04</td>\n",
              "      <td>130.000000</td>\n",
              "      <td>150.000000</td>\n",
              "      <td>31.000000</td>\n",
              "    </tr>\n",
              "    <tr>\n",
              "      <th>max</th>\n",
              "      <td>2.016023e+07</td>\n",
              "      <td>1.366975e+07</td>\n",
              "      <td>7.858300e+06</td>\n",
              "      <td>1.260546e+07</td>\n",
              "      <td>1.720000e+06</td>\n",
              "      <td>1.264766e+07</td>\n",
              "      <td>182.000000</td>\n",
              "      <td>32100.000000</td>\n",
              "      <td>315.000000</td>\n",
              "    </tr>\n",
              "  </tbody>\n",
              "</table>\n",
              "</div>"
            ],
            "text/plain": [
              "       CUST_TXN_DATE  ...  LOAN_AGE_DAYS\n",
              "count   1.032900e+04  ...   10329.000000\n",
              "mean    2.016021e+07  ...      45.805305\n",
              "std     7.900788e+00  ...      78.756136\n",
              "min     2.016020e+07  ...       1.000000\n",
              "25%     2.016021e+07  ...      10.000000\n",
              "50%     2.016022e+07  ...      20.000000\n",
              "75%     2.016022e+07  ...      31.000000\n",
              "max     2.016023e+07  ...     315.000000\n",
              "\n",
              "[8 rows x 9 columns]"
            ]
          },
          "metadata": {},
          "execution_count": 161
        }
      ]
    },
    {
      "cell_type": "code",
      "metadata": {
        "colab": {
          "base_uri": "https://localhost:8080/",
          "height": 317
        },
        "id": "XC-bCF8KtDgF",
        "outputId": "62efe154-12f8-41a2-e3f2-8f164f1466b9"
      },
      "source": [
        "test_data.describe()"
      ],
      "execution_count": null,
      "outputs": [
        {
          "output_type": "execute_result",
          "data": {
            "text/html": [
              "<div>\n",
              "<style scoped>\n",
              "    .dataframe tbody tr th:only-of-type {\n",
              "        vertical-align: middle;\n",
              "    }\n",
              "\n",
              "    .dataframe tbody tr th {\n",
              "        vertical-align: top;\n",
              "    }\n",
              "\n",
              "    .dataframe thead th {\n",
              "        text-align: right;\n",
              "    }\n",
              "</style>\n",
              "<table border=\"1\" class=\"dataframe\">\n",
              "  <thead>\n",
              "    <tr style=\"text-align: right;\">\n",
              "      <th></th>\n",
              "      <th>CUST_TXN_DATE</th>\n",
              "      <th>CUST_ID_ACCT1</th>\n",
              "      <th>DEPOSIT_AMNT_MPSA</th>\n",
              "      <th>RCVD_AMNT_MPSA</th>\n",
              "      <th>TRSF_FROM_BANK_TO_MPESA_AMNT</th>\n",
              "      <th>MPSA_CREDITS</th>\n",
              "      <th>DAYS_ARTM_LESS_2</th>\n",
              "      <th>X_NR_TOT_LOAN_AMNT_OKOA_JAZI</th>\n",
              "      <th>LOAN_AGE_DAYS</th>\n",
              "    </tr>\n",
              "  </thead>\n",
              "  <tbody>\n",
              "    <tr>\n",
              "      <th>count</th>\n",
              "      <td>9.170000e+02</td>\n",
              "      <td>9.170000e+02</td>\n",
              "      <td>917.000000</td>\n",
              "      <td>9.170000e+02</td>\n",
              "      <td>917.000000</td>\n",
              "      <td>9.170000e+02</td>\n",
              "      <td>917.000000</td>\n",
              "      <td>917.000000</td>\n",
              "      <td>917.000000</td>\n",
              "    </tr>\n",
              "    <tr>\n",
              "      <th>mean</th>\n",
              "      <td>2.016022e+07</td>\n",
              "      <td>8.531685e+06</td>\n",
              "      <td>14434.890949</td>\n",
              "      <td>3.701304e+04</td>\n",
              "      <td>4359.902944</td>\n",
              "      <td>5.580783e+04</td>\n",
              "      <td>85.874591</td>\n",
              "      <td>308.546521</td>\n",
              "      <td>47.441658</td>\n",
              "    </tr>\n",
              "    <tr>\n",
              "      <th>std</th>\n",
              "      <td>7.733898e+00</td>\n",
              "      <td>3.777752e+06</td>\n",
              "      <td>54546.573185</td>\n",
              "      <td>4.195900e+05</td>\n",
              "      <td>20699.988066</td>\n",
              "      <td>4.263768e+05</td>\n",
              "      <td>53.881851</td>\n",
              "      <td>975.848656</td>\n",
              "      <td>80.529783</td>\n",
              "    </tr>\n",
              "    <tr>\n",
              "      <th>min</th>\n",
              "      <td>2.016021e+07</td>\n",
              "      <td>3.123100e+04</td>\n",
              "      <td>0.000000</td>\n",
              "      <td>0.000000e+00</td>\n",
              "      <td>0.000000</td>\n",
              "      <td>0.000000e+00</td>\n",
              "      <td>0.000000</td>\n",
              "      <td>0.000000</td>\n",
              "      <td>1.000000</td>\n",
              "    </tr>\n",
              "    <tr>\n",
              "      <th>25%</th>\n",
              "      <td>2.016021e+07</td>\n",
              "      <td>5.900966e+06</td>\n",
              "      <td>200.000000</td>\n",
              "      <td>3.000000e+02</td>\n",
              "      <td>0.000000</td>\n",
              "      <td>5.115000e+03</td>\n",
              "      <td>43.000000</td>\n",
              "      <td>0.000000</td>\n",
              "      <td>10.000000</td>\n",
              "    </tr>\n",
              "    <tr>\n",
              "      <th>50%</th>\n",
              "      <td>2.016022e+07</td>\n",
              "      <td>9.726945e+06</td>\n",
              "      <td>2650.000000</td>\n",
              "      <td>4.462000e+03</td>\n",
              "      <td>0.000000</td>\n",
              "      <td>1.390000e+04</td>\n",
              "      <td>95.000000</td>\n",
              "      <td>0.000000</td>\n",
              "      <td>20.000000</td>\n",
              "    </tr>\n",
              "    <tr>\n",
              "      <th>75%</th>\n",
              "      <td>2.016023e+07</td>\n",
              "      <td>1.150027e+07</td>\n",
              "      <td>9272.000000</td>\n",
              "      <td>2.028800e+04</td>\n",
              "      <td>200.000000</td>\n",
              "      <td>3.957000e+04</td>\n",
              "      <td>132.000000</td>\n",
              "      <td>140.000000</td>\n",
              "      <td>31.000000</td>\n",
              "    </tr>\n",
              "    <tr>\n",
              "      <th>max</th>\n",
              "      <td>2.016023e+07</td>\n",
              "      <td>1.366975e+07</td>\n",
              "      <td>967838.000000</td>\n",
              "      <td>1.260546e+07</td>\n",
              "      <td>275767.000000</td>\n",
              "      <td>1.264766e+07</td>\n",
              "      <td>179.000000</td>\n",
              "      <td>10080.000000</td>\n",
              "      <td>307.000000</td>\n",
              "    </tr>\n",
              "  </tbody>\n",
              "</table>\n",
              "</div>"
            ],
            "text/plain": [
              "       CUST_TXN_DATE  ...  LOAN_AGE_DAYS\n",
              "count   9.170000e+02  ...     917.000000\n",
              "mean    2.016022e+07  ...      47.441658\n",
              "std     7.733898e+00  ...      80.529783\n",
              "min     2.016021e+07  ...       1.000000\n",
              "25%     2.016021e+07  ...      10.000000\n",
              "50%     2.016022e+07  ...      20.000000\n",
              "75%     2.016023e+07  ...      31.000000\n",
              "max     2.016023e+07  ...     307.000000\n",
              "\n",
              "[8 rows x 9 columns]"
            ]
          },
          "metadata": {},
          "execution_count": 162
        }
      ]
    },
    {
      "cell_type": "code",
      "metadata": {
        "id": "dOfVHqGObVU2"
      },
      "source": [
        "# Create target column\n",
        "train_data['LOAN_DEFAULTED'] = ''\n",
        "\n",
        "# Loop through dataframe and create new column to show if a loan has defaulted\n",
        "# we consider two risk classes for the Binary-class classification problem.\n",
        "# A risk is considered “good” if the customer is not in arrears or is in arrears for less than 90 days else \"Bad\" for defaulting\n",
        "for row in train_data.itertuples():\n",
        "    loan_age = train_data.at[row.Index, 'LOAN_AGE_DAYS']\n",
        "    if loan_age > 90:\n",
        "      train_data.at[row.Index, 'LOAN_DEFAULTED'] = 'Bad'\n",
        "    else:\n",
        "      train_data.at[row.Index, 'LOAN_DEFAULTED'] = 'Good'"
      ],
      "execution_count": null,
      "outputs": []
    },
    {
      "cell_type": "code",
      "metadata": {
        "id": "vEtvCt7jo0bN"
      },
      "source": [
        "# Remove unneeded columns (the customers ID and Loan Age Days have been replaced with whether the loan has defaulted)\n",
        "target_name = \"LOAN_DEFAULTED\"\n",
        "X,y = train_data.drop(columns = target_name),train_data[target_name]\n",
        "\n",
        "X = X.drop(columns = \"CUST_TXN_DATE\")\n",
        "X = X.drop(columns = \"LOAN_AGE_DAYS\")\n",
        "X = X.drop(columns = \"CUST_ID_ACCT1\")"
      ],
      "execution_count": null,
      "outputs": []
    },
    {
      "cell_type": "code",
      "metadata": {
        "colab": {
          "base_uri": "https://localhost:8080/",
          "height": 204
        },
        "id": "GiqiZNbUpJFQ",
        "outputId": "66a77f2e-869e-4c73-a4ed-25d331307522"
      },
      "source": [
        "X.head()"
      ],
      "execution_count": null,
      "outputs": [
        {
          "output_type": "execute_result",
          "data": {
            "text/html": [
              "<div>\n",
              "<style scoped>\n",
              "    .dataframe tbody tr th:only-of-type {\n",
              "        vertical-align: middle;\n",
              "    }\n",
              "\n",
              "    .dataframe tbody tr th {\n",
              "        vertical-align: top;\n",
              "    }\n",
              "\n",
              "    .dataframe thead th {\n",
              "        text-align: right;\n",
              "    }\n",
              "</style>\n",
              "<table border=\"1\" class=\"dataframe\">\n",
              "  <thead>\n",
              "    <tr style=\"text-align: right;\">\n",
              "      <th></th>\n",
              "      <th>DEPOSIT_AMNT_MPSA</th>\n",
              "      <th>RCVD_AMNT_MPSA</th>\n",
              "      <th>TRSF_FROM_BANK_TO_MPESA_AMNT</th>\n",
              "      <th>MPSA_CREDITS</th>\n",
              "      <th>DAYS_ARTM_LESS_2</th>\n",
              "      <th>X_NR_TOT_LOAN_AMNT_OKOA_JAZI</th>\n",
              "    </tr>\n",
              "  </thead>\n",
              "  <tbody>\n",
              "    <tr>\n",
              "      <th>0</th>\n",
              "      <td>27590</td>\n",
              "      <td>53226.0</td>\n",
              "      <td>0.0</td>\n",
              "      <td>80816.0</td>\n",
              "      <td>139</td>\n",
              "      <td>800.0</td>\n",
              "    </tr>\n",
              "    <tr>\n",
              "      <th>1</th>\n",
              "      <td>2140</td>\n",
              "      <td>0.0</td>\n",
              "      <td>2170.0</td>\n",
              "      <td>4310.0</td>\n",
              "      <td>154</td>\n",
              "      <td>0.0</td>\n",
              "    </tr>\n",
              "    <tr>\n",
              "      <th>2</th>\n",
              "      <td>25700</td>\n",
              "      <td>37974.0</td>\n",
              "      <td>38972.0</td>\n",
              "      <td>102646.0</td>\n",
              "      <td>1</td>\n",
              "      <td>0.0</td>\n",
              "    </tr>\n",
              "    <tr>\n",
              "      <th>3</th>\n",
              "      <td>9250</td>\n",
              "      <td>2180.0</td>\n",
              "      <td>0.0</td>\n",
              "      <td>11430.0</td>\n",
              "      <td>64</td>\n",
              "      <td>0.0</td>\n",
              "    </tr>\n",
              "    <tr>\n",
              "      <th>4</th>\n",
              "      <td>102401</td>\n",
              "      <td>7169.0</td>\n",
              "      <td>0.0</td>\n",
              "      <td>109570.0</td>\n",
              "      <td>53</td>\n",
              "      <td>450.0</td>\n",
              "    </tr>\n",
              "  </tbody>\n",
              "</table>\n",
              "</div>"
            ],
            "text/plain": [
              "   DEPOSIT_AMNT_MPSA  ...  X_NR_TOT_LOAN_AMNT_OKOA_JAZI\n",
              "0              27590  ...                         800.0\n",
              "1               2140  ...                           0.0\n",
              "2              25700  ...                           0.0\n",
              "3               9250  ...                           0.0\n",
              "4             102401  ...                         450.0\n",
              "\n",
              "[5 rows x 6 columns]"
            ]
          },
          "metadata": {},
          "execution_count": 195
        }
      ]
    },
    {
      "cell_type": "markdown",
      "metadata": {
        "id": "bKdsg71RwKQw"
      },
      "source": [
        "# **Data Visualization**"
      ]
    },
    {
      "cell_type": "code",
      "metadata": {
        "colab": {
          "base_uri": "https://localhost:8080/",
          "height": 280
        },
        "id": "9Yi27rXAweWR",
        "outputId": "48674da7-9354-4fa5-aa97-eef006ac96d3"
      },
      "source": [
        "sns.countplot(x= \"LOAN_DEFAULTED\", data= train_data)\n",
        "plt.show()\n",
        "#few numbers of customers default"
      ],
      "execution_count": null,
      "outputs": [
        {
          "output_type": "display_data",
          "data": {
            "image/png": "[encoded data removed]",
            "text/plain": [
              "<Figure size 432x288 with 1 Axes>"
            ]
          },
          "metadata": {
            "needs_background": "light"
          }
        }
      ]
    },
    {
      "cell_type": "code",
      "metadata": {
        "colab": {
          "base_uri": "https://localhost:8080/"
        },
        "id": "bzZyA1ayw8qQ",
        "outputId": "3592783c-cc6a-4da3-d934-29fbd62ed765"
      },
      "source": [
        "#percentage of good and bad \n",
        "train_data.LOAN_DEFAULTED.value_counts(normalize= True) *100"
      ],
      "execution_count": null,
      "outputs": [
        {
          "output_type": "execute_result",
          "data": {
            "text/plain": [
              "Good    88.643625\n",
              "Bad     11.356375\n",
              "Name: LOAN_DEFAULTED, dtype: float64"
            ]
          },
          "metadata": {},
          "execution_count": 197
        }
      ]
    },
    {
      "cell_type": "code",
      "metadata": {
        "colab": {
          "base_uri": "https://localhost:8080/",
          "height": 769
        },
        "id": "sCkmAUHmNrqt",
        "outputId": "7ddd6d09-b12b-4513-cbbc-28544f616c7d"
      },
      "source": [
        "#corr() shows us correlated features.It’s a good practice to remove correlated variables during feature selection.\n",
        "#This is important since correlated features contain similar information leading to the curse of dimensionality(high dimensional spaces)\n",
        " \n",
        " \n",
        "corr_df = X.corr()\n",
        " \n",
        "plt.figure(figsize = (13,10))\n",
        "sns.heatmap(corr_df, annot=True)\n",
        "plt.savefig('df_heatmap.png')"
      ],
      "execution_count": null,
      "outputs": [
        {
          "output_type": "display_data",
          "data": {
            "image/png": "[encoded data removed]",
            "text/plain": [
              "<Figure size 936x720 with 2 Axes>"
            ]
          },
          "metadata": {
            "needs_background": "light"
          }
        }
      ]
    },
    {
      "cell_type": "markdown",
      "metadata": {
        "id": "rAGnIh6F9I54"
      },
      "source": [
        "# **Modelling and Prediction Making**"
      ]
    },
    {
      "cell_type": "code",
      "metadata": {
        "id": "E_vwZrtSg81d"
      },
      "source": [
        "from sklearn.model_selection import train_test_split\n",
        "train_x, val_x, train_y, val_y= train_test_split(X,y,test_size= 0.2)"
      ],
      "execution_count": null,
      "outputs": []
    },
    {
      "cell_type": "code",
      "metadata": {
        "colab": {
          "base_uri": "https://localhost:8080/"
        },
        "id": "zSjf9nPamTVG",
        "outputId": "24353ec3-2901-4978-e9d0-f0d68f8c8184"
      },
      "source": [
        "print (type(train_y))\n",
        "\n",
        "print (train_y)"
      ],
      "execution_count": null,
      "outputs": [
        {
          "output_type": "stream",
          "name": "stdout",
          "text": [
            "<class 'pandas.core.series.Series'>\n",
            "9239    Good\n",
            "5066    Good\n",
            "4806    Good\n",
            "6320    Good\n",
            "1196    Good\n",
            "        ... \n",
            "5416    Good\n",
            "8042    Good\n",
            "84      Good\n",
            "4705     Bad\n",
            "4463    Good\n",
            "Name: LOAN_DEFAULTED, Length: 8263, dtype: object\n"
          ]
        }
      ]
    },
    {
      "cell_type": "markdown",
      "metadata": {
        "id": "SI4d3c89XskL"
      },
      "source": [
        "# Hyper parameter tuning "
      ]
    },
    {
      "cell_type": "code",
      "metadata": {
        "colab": {
          "base_uri": "https://localhost:8080/"
        },
        "id": "s_w0ktF5jlve",
        "outputId": "a4178e93-9844-476d-c65f-c836e55fe91e"
      },
      "source": [
        "Rf= RandomForestClassifier(n_estimators= 1000,warm_start=True, random_state= 0)\n",
        "Ab= AdaBoostClassifier(n_estimators= 350, learning_rate= 0.1)\n",
        "Rf.fit(\n",
        "    train_x, \n",
        "       train_y)\n",
        "pred= Rf.predict(val_x)\n",
        "Ab.fit(train_x, train_y)\n",
        "preds= Ab.predict(val_x)\n",
        "print(\"RF's accuracy score:\",accuracy_score(pred,val_y))\n",
        "print(\"Ab's accuracy score:\", accuracy_score(preds, val_y))"
      ],
      "execution_count": null,
      "outputs": [
        {
          "output_type": "stream",
          "name": "stdout",
          "text": [
            "RF's accuracy score: 0.8877057115198451\n",
            "Ab's accuracy score: 0.8785091965150048\n"
          ]
        }
      ]
    },
    {
      "cell_type": "code",
      "metadata": {
        "colab": {
          "base_uri": "https://localhost:8080/"
        },
        "id": "5H4QMcuIjlm_",
        "outputId": "6d6ab520-e170-49b6-b10f-07c8043c2495"
      },
      "source": [
        "gbr= GradientBoostingClassifier(learning_rate= 0.1, random_state= 0, n_estimators= 50)\n",
        "gbr.fit(train_x, train_y)\n",
        "prd= gbr.predict(val_x)\n",
        "\n",
        "print(\"GBR's accuracy score:\",accuracy_score(val_y, prd))"
      ],
      "execution_count": null,
      "outputs": [
        {
          "output_type": "stream",
          "name": "stdout",
          "text": [
            "GBR's accuracy score: 0.8785091965150048\n"
          ]
        }
      ]
    },
    {
      "cell_type": "code",
      "metadata": {
        "colab": {
          "base_uri": "https://localhost:8080/"
        },
        "id": "-Yzo8ZXDRXsf",
        "outputId": "c29992fe-1cb1-42d0-85b8-9363b596a30c"
      },
      "source": [
        "import xgboost as xgb\n",
        "\n",
        "xgb_model = xgb.XGBClassifier(objective=\"binary:logistic\", random_state=42)\n",
        "xgb_model.fit(train_x, train_y)\n",
        "prd= gbr.predict(val_x)\n",
        "\n",
        "print(\"xgboost accuracy score:\",accuracy_score(val_y,prd))"
      ],
      "execution_count": null,
      "outputs": [
        {
          "output_type": "stream",
          "name": "stdout",
          "text": [
            "xgboost accuracy score: 0.8785091965150048\n"
          ]
        }
      ]
    },
    {
      "cell_type": "code",
      "metadata": {
        "colab": {
          "base_uri": "https://localhost:8080/",
          "height": 446
        },
        "id": "N9TDsm4Fl4z5",
        "outputId": "808e01be-bf48-49c5-feec-5e3f0ee79b51"
      },
      "source": [
        "#feature importance for Random ForestClassifier\n",
        "\n",
        "%matplotlib inline \n",
        "plt.figure(figsize=(15,7))\n",
        "feat_importances = pd.Series(Rf.feature_importances_, index = X.columns)\n",
        "feat_importances.nlargest(20).plot(kind='barh')"
      ],
      "execution_count": null,
      "outputs": [
        {
          "output_type": "execute_result",
          "data": {
            "text/plain": [
              "<matplotlib.axes._subplots.AxesSubplot at 0x7f33ede34950>"
            ]
          },
          "metadata": {},
          "execution_count": 203
        },
        {
          "output_type": "display_data",
          "data": {
            "image/png": "[encoded data removed]",
            "text/plain": [
              "<Figure size 1080x504 with 1 Axes>"
            ]
          },
          "metadata": {
            "needs_background": "light"
          }
        }
      ]
    },
    {
      "cell_type": "code",
      "metadata": {
        "id": "Bil0WXL32zIu"
      },
      "source": [
        "#Model fitting with preprocessing\n",
        "#Normalization using a scikit-learn transformer called StandardScaler.\n",
        "#This transformer shifts and scales each feature individually so that they all have a 0-mean and a unit standard deviation.\n",
        "from sklearn.preprocessing import StandardScaler\n",
        "\n",
        "#scaler = StandardScaler()\n",
        "#scaler.fit(X_train)"
      ],
      "execution_count": null,
      "outputs": []
    },
    {
      "cell_type": "code",
      "metadata": {
        "id": "qpbsKjeljlct",
        "colab": {
          "base_uri": "https://localhost:8080/"
        },
        "outputId": "c6ed0be8-bd4a-4e1d-bc22-e11eb4bd6758"
      },
      "source": [
        "#scikit-learn Pipeline\n",
        "import time\n",
        "from sklearn.linear_model import LogisticRegression\n",
        "from sklearn.pipeline import make_pipeline\n",
        "\n",
        "model = make_pipeline(StandardScaler(), LogisticRegression(max_iter = 500))\n",
        "model"
      ],
      "execution_count": null,
      "outputs": [
        {
          "output_type": "execute_result",
          "data": {
            "text/plain": [
              "Pipeline(memory=None,\n",
              "         steps=[('standardscaler',\n",
              "                 StandardScaler(copy=True, with_mean=True, with_std=True)),\n",
              "                ('logisticregression',\n",
              "                 LogisticRegression(C=1.0, class_weight=None, dual=False,\n",
              "                                    fit_intercept=True, intercept_scaling=1,\n",
              "                                    l1_ratio=None, max_iter=500,\n",
              "                                    multi_class='auto', n_jobs=None,\n",
              "                                    penalty='l2', random_state=None,\n",
              "                                    solver='lbfgs', tol=0.0001, verbose=0,\n",
              "                                    warm_start=False))],\n",
              "         verbose=False)"
            ]
          },
          "metadata": {},
          "execution_count": 208
        }
      ]
    },
    {
      "cell_type": "code",
      "metadata": {
        "colab": {
          "base_uri": "https://localhost:8080/"
        },
        "id": "ZaIe_ZvN3Q0T",
        "outputId": "123bb777-e302-4f39-8532-c60bc9ef5670"
      },
      "source": [
        "model.named_steps"
      ],
      "execution_count": null,
      "outputs": [
        {
          "output_type": "execute_result",
          "data": {
            "text/plain": [
              "{'logisticregression': LogisticRegression(C=1.0, class_weight=None, dual=False, fit_intercept=True,\n",
              "                    intercept_scaling=1, l1_ratio=None, max_iter=500,\n",
              "                    multi_class='auto', n_jobs=None, penalty='l2',\n",
              "                    random_state=None, solver='lbfgs', tol=0.0001, verbose=0,\n",
              "                    warm_start=False),\n",
              " 'standardscaler': StandardScaler(copy=True, with_mean=True, with_std=True)}"
            ]
          },
          "metadata": {},
          "execution_count": 209
        }
      ]
    },
    {
      "cell_type": "code",
      "metadata": {
        "id": "wQAGuMOdNrq0"
      },
      "source": [
        "start = time.time()\n",
        "model.fit(train_x, train_y)\n",
        "elapsed_time = time.time() - start"
      ],
      "execution_count": null,
      "outputs": []
    },
    {
      "cell_type": "code",
      "metadata": {
        "id": "1D1nrZuHNrq1",
        "colab": {
          "base_uri": "https://localhost:8080/"
        },
        "outputId": "aa368c81-ab6e-48ba-9395-80f955f4d720"
      },
      "source": [
        "model_name = model.__class__.__name__\n",
        "score = model.score(val_x, val_y)\n",
        "print(f\"The accuracy using a {model_name} is {score:.3f} \"\n",
        "      f\"with a fitting time of {elapsed_time:.3f} seconds \"\n",
        "      f\"in {model[-1].n_iter_[0]} iterations\")"
      ],
      "execution_count": null,
      "outputs": [
        {
          "output_type": "stream",
          "name": "stdout",
          "text": [
            "The accuracy using a Pipeline is 0.879 with a fitting time of 0.046 seconds in 15 iterations\n"
          ]
        }
      ]
    },
    {
      "cell_type": "code",
      "metadata": {
        "id": "Huj5t05JNrq1",
        "colab": {
          "base_uri": "https://localhost:8080/"
        },
        "outputId": "04b68da3-429a-42cf-c9ac-9ba8e8d440b2"
      },
      "source": [
        "#Model evaluation using cross-validation\n",
        "\n",
        "import warnings\n",
        "warnings.filterwarnings('ignore')\n",
        "from sklearn.model_selection import cross_validate\n",
        "\n",
        "model = make_pipeline(StandardScaler(), LogisticRegression(max_iter=500))\n",
        "cv_result = cross_validate(model, X,y, cv=5)\n",
        "cv_result"
      ],
      "execution_count": null,
      "outputs": [
        {
          "output_type": "execute_result",
          "data": {
            "text/plain": [
              "{'fit_time': array([0.03554988, 0.0484302 , 0.0468564 , 0.0452559 , 0.04817843]),\n",
              " 'score_time': array([0.00828791, 0.00815153, 0.0082016 , 0.0083611 , 0.01141453]),\n",
              " 'test_score': array([0.88673766, 0.88625363, 0.88625363, 0.88625363, 0.88668281])}"
            ]
          },
          "metadata": {},
          "execution_count": 212
        }
      ]
    },
    {
      "cell_type": "code",
      "metadata": {
        "id": "rA1vvQSeNrq2",
        "colab": {
          "base_uri": "https://localhost:8080/"
        },
        "outputId": "9dd29f2d-6c51-4566-c919-1d9a335eccc5"
      },
      "source": [
        "scores = cv_result[\"test_score\"]\n",
        "print(\"The mean cross-validation accuracy is: \"\n",
        "      f\"{scores.mean():.3f} +/- {scores.std():.3f}\")"
      ],
      "execution_count": null,
      "outputs": [
        {
          "output_type": "stream",
          "name": "stdout",
          "text": [
            "The mean cross-validation accuracy is: 0.886 +/- 0.000\n"
          ]
        }
      ]
    },
    {
      "cell_type": "code",
      "metadata": {
        "id": "19fA2NemNrq3",
        "colab": {
          "base_uri": "https://localhost:8080/"
        },
        "outputId": "512374c8-a55f-4235-f47d-e3666a0c7175"
      },
      "source": [
        "print(\n",
        "    f\"Accuracy score of our model:\\n\"\n",
        "    f\"{cv_result['test_score'].mean():.3f} +/- \"\n",
        "    f\"{cv_result['test_score'].std():.3f}\")"
      ],
      "execution_count": null,
      "outputs": [
        {
          "output_type": "stream",
          "name": "stdout",
          "text": [
            "Accuracy score of our model:\n",
            "0.886 +/- 0.000\n"
          ]
        }
      ]
    },
    {
      "cell_type": "code",
      "metadata": {
        "colab": {
          "base_uri": "https://localhost:8080/",
          "height": 310
        },
        "id": "V9TiQBGZ4DNU",
        "outputId": "d53fbfbb-22f9-42c4-c9b7-d5fb9e40d152"
      },
      "source": [
        "### Evaluation of model.\n",
        "import matplotlib.pyplot as plt\n",
        "\n",
        "y.value_counts().plot.barh()\n",
        "plt.xlabel(\"Number of samples\")\n",
        "_ = plt.title(\"Number of samples per classes present\\n in the target\")"
      ],
      "execution_count": null,
      "outputs": [
        {
          "output_type": "display_data",
          "data": {
            "image/png": "[encoded data removed]",
            "text/plain": [
              "<Figure size 432x288 with 1 Axes>"
            ]
          },
          "metadata": {
            "needs_background": "light"
          }
        }
      ]
    },
    {
      "cell_type": "markdown",
      "metadata": {
        "id": "AVC_AfoZHC8J"
      },
      "source": [
        "# **Confusion Matrix and Derived Metrics**"
      ]
    },
    {
      "cell_type": "code",
      "metadata": {
        "colab": {
          "base_uri": "https://localhost:8080/"
        },
        "id": "ro9wFbcinASI",
        "outputId": "f2b60609-9d61-470e-fc0d-2232c7ae5d91"
      },
      "source": [
        "gbr.get_params()"
      ],
      "execution_count": null,
      "outputs": [
        {
          "output_type": "execute_result",
          "data": {
            "text/plain": [
              "{'ccp_alpha': 0.0,\n",
              " 'criterion': 'friedman_mse',\n",
              " 'init': None,\n",
              " 'learning_rate': 0.1,\n",
              " 'loss': 'deviance',\n",
              " 'max_depth': 3,\n",
              " 'max_features': None,\n",
              " 'max_leaf_nodes': None,\n",
              " 'min_impurity_decrease': 0.0,\n",
              " 'min_impurity_split': None,\n",
              " 'min_samples_leaf': 1,\n",
              " 'min_samples_split': 2,\n",
              " 'min_weight_fraction_leaf': 0.0,\n",
              " 'n_estimators': 50,\n",
              " 'n_iter_no_change': None,\n",
              " 'presort': 'deprecated',\n",
              " 'random_state': 0,\n",
              " 'subsample': 1.0,\n",
              " 'tol': 0.0001,\n",
              " 'validation_fraction': 0.1,\n",
              " 'verbose': 0,\n",
              " 'warm_start': False}"
            ]
          },
          "metadata": {},
          "execution_count": 256
        }
      ]
    },
    {
      "cell_type": "code",
      "metadata": {
        "colab": {
          "base_uri": "https://localhost:8080/",
          "height": 279
        },
        "id": "AZ32J7lWqOeC",
        "outputId": "68d4f7b2-2f11-4f50-b9cc-2d823b2597d7"
      },
      "source": [
        "#Accuracy is an aggregate of the errors made by the classifier\n",
        "#independently what the error is for each of the two following cases:\n",
        "  # 1.we predicted that a customer will give default but she/he did not\n",
        "  # 2.we predicted that a customer will not  but she/hdefaulte did.\n",
        "\n",
        "from sklearn.metrics import plot_confusion_matrix\n",
        "\n",
        "_ = plot_confusion_matrix(Rf, val_x, val_y)\n"
      ],
      "execution_count": null,
      "outputs": [
        {
          "output_type": "display_data",
          "data": {
            "image/png": "[encoded data removed]",
            "text/plain": [
              "<Figure size 432x288 with 2 Axes>"
            ]
          },
          "metadata": {
            "needs_background": "light"
          }
        }
      ]
    },
    {
      "cell_type": "code",
      "metadata": {
        "colab": {
          "base_uri": "https://localhost:8080/",
          "height": 348
        },
        "id": "UFXuZBs0pQ-n",
        "outputId": "c4e8320d-54ce-437c-f824-ff89c7f29b7d"
      },
      "source": [
        "ax= plt.subplot()\n",
        "cm= confusion_matrix(val_y, pred)\n",
        "print(cm)\n",
        "sns.heatmap(cm, annot= True, ax= ax);\n",
        "\n",
        "plt.figure(figsize=(10,6))\n",
        "ax.set_xlabel(\"predicted\"); ax.set_ylabel(\"True\");\n",
        "ax.set_title(\"Random Forest Confusion Matrix\");"
      ],
      "execution_count": null,
      "outputs": [
        {
          "output_type": "stream",
          "name": "stdout",
          "text": [
            "[[  42  209]\n",
            " [  23 1792]]\n"
          ]
        },
        {
          "output_type": "display_data",
          "data": {
            "image/png": "[encoded data removed]",
            "text/plain": [
              "<Figure size 432x288 with 2 Axes>"
            ]
          },
          "metadata": {
            "needs_background": "light"
          }
        },
        {
          "output_type": "display_data",
          "data": {
            "text/plain": [
              "<Figure size 720x432 with 0 Axes>"
            ]
          },
          "metadata": {}
        }
      ]
    },
    {
      "cell_type": "code",
      "metadata": {
        "colab": {
          "base_uri": "https://localhost:8080/",
          "height": 348
        },
        "id": "acbn5EH84gPj",
        "outputId": "edb3a0ab-c6cc-4c78-968e-c859ef5d1ae0"
      },
      "source": [
        "ax= plt.subplot()\n",
        "dm= confusion_matrix(val_y,preds)\n",
        "print(dm)\n",
        "sns.heatmap(dm, annot=True, ax = ax); #annot=True to annotate cells\n",
        "\n",
        "# labels, title and ticks\n",
        "plt.figure(figsize=(10,6))\n",
        "ax.set_xlabel('Predicted');ax.set_ylabel('True labels'); \n",
        "ax.set_title('Adaboost Confusion_matrix');"
      ],
      "execution_count": null,
      "outputs": [
        {
          "output_type": "stream",
          "name": "stdout",
          "text": [
            "[[   0  251]\n",
            " [   0 1815]]\n"
          ]
        },
        {
          "output_type": "display_data",
          "data": {
            "image/png": "[encoded data removed]",
            "text/plain": [
              "<Figure size 432x288 with 2 Axes>"
            ]
          },
          "metadata": {
            "needs_background": "light"
          }
        },
        {
          "output_type": "display_data",
          "data": {
            "text/plain": [
              "<Figure size 720x432 with 0 Axes>"
            ]
          },
          "metadata": {}
        }
      ]
    },
    {
      "cell_type": "code",
      "metadata": {
        "colab": {
          "base_uri": "https://localhost:8080/",
          "height": 366
        },
        "id": "s9tgFL2P4rPB",
        "outputId": "df8d72fd-7f5a-4958-f8e4-a418a1a1bac9"
      },
      "source": [
        "ax= plt.subplot()\n",
        "pm= confusion_matrix(val_y, prd)\n",
        "print(pm)\n",
        "sns.heatmap(pm, annot= True, ax= ax)\n",
        "\n",
        "plt.figure(figsize=(10,6))\n",
        "ax.set_xlabel(\"predicted\"); ax.set_ylabel(\"True\")\n",
        "ax.set_title(\"Gradient Confusion mattix\")"
      ],
      "execution_count": null,
      "outputs": [
        {
          "output_type": "stream",
          "name": "stdout",
          "text": [
            "[[   0  251]\n",
            " [   0 1815]]\n"
          ]
        },
        {
          "output_type": "execute_result",
          "data": {
            "text/plain": [
              "Text(0.5, 1.0, 'Gradient Confusion mattix')"
            ]
          },
          "metadata": {},
          "execution_count": 282
        },
        {
          "output_type": "display_data",
          "data": {
            "image/png": "[encoded data removed]",
            "text/plain": [
              "<Figure size 432x288 with 2 Axes>"
            ]
          },
          "metadata": {
            "needs_background": "light"
          }
        },
        {
          "output_type": "display_data",
          "data": {
            "text/plain": [
              "<Figure size 720x432 with 0 Axes>"
            ]
          },
          "metadata": {}
        }
      ]
    },
    {
      "cell_type": "code",
      "metadata": {
        "id": "LL3nzU8Ppahm"
      },
      "source": [
        "# the top left corner are true positives (TP) and corresponds to customers who  defaulted and were predicted as such by the classifier\n",
        "# the bottom right corner are true negatives (TN) and correspond to customers who did not default and were predicted as such by the classifier\n",
        "\n",
        "# the top right corner are false negatives (FN) and correspond to customers who defaulted but were predicted to not have defaulted\n",
        "# the bottom left corner are false positives (FP) and correspond to customers who did not default but were predicted to have defaulted."
      ],
      "execution_count": null,
      "outputs": []
    },
    {
      "cell_type": "code",
      "metadata": {
        "id": "YLKBH6llt13w"
      },
      "source": [
        "#Precision = TP / (TP + FP) and represents how likely the customer actually defaulted when the classifier predicted that they did.\n",
        "#Recall = TP / (TP + FN) and assesses how well the classifier is able to correctly identify people who defaulted. "
      ],
      "execution_count": null,
      "outputs": []
    },
    {
      "cell_type": "code",
      "metadata": {
        "colab": {
          "base_uri": "https://localhost:8080/"
        },
        "id": "gkW6nH74vysE",
        "outputId": "74da4b74-844c-46a1-8c56-1a0748d16479"
      },
      "source": [
        "from sklearn.metrics import precision_score, recall_score\n",
        "\n",
        "precision = precision_score(val_y, pred, pos_label=\"Good\")\n",
        "recall = recall_score(val_y, pred, pos_label=\"Good\")\n",
        "\n",
        "print(f\"Precision score: {precision:.3f}\")\n",
        "print(f\"Recall score: {recall:.3f}\")"
      ],
      "execution_count": null,
      "outputs": [
        {
          "output_type": "stream",
          "name": "stdout",
          "text": [
            "Precision score: 0.896\n",
            "Recall score: 0.987\n"
          ]
        }
      ]
    },
    {
      "cell_type": "markdown",
      "metadata": {
        "id": "Pc672TxBxhU5"
      },
      "source": [
        "# **The issue of class imbalance**"
      ]
    },
    {
      "cell_type": "code",
      "metadata": {
        "colab": {
          "base_uri": "https://localhost:8080/",
          "height": 295
        },
        "id": "WKF3znamwTOj",
        "outputId": "ea520e2d-25d2-4a04-ff7e-ddaebdbcc8a0"
      },
      "source": [
        "train_y.value_counts(normalize=True).plot.barh()\n",
        "plt.xlabel(\"Class frequency\")\n",
        "_ = plt.title(\"Class frequency in the training set\")"
      ],
      "execution_count": null,
      "outputs": [
        {
          "output_type": "display_data",
          "data": {
            "image/png": "[encoded data removed]",
            "text/plain": [
              "<Figure size 432x288 with 1 Axes>"
            ]
          },
          "metadata": {
            "needs_background": "light"
          }
        }
      ]
    },
    {
      "cell_type": "code",
      "metadata": {
        "colab": {
          "base_uri": "https://localhost:8080/"
        },
        "id": "_TaeEuCexQ8c",
        "outputId": "6d74e35b-5919-4974-dbe7-32858cc544b4"
      },
      "source": [
        "from sklearn.dummy import DummyClassifier\n",
        "\n",
        "dummy_classifier = DummyClassifier(strategy=\"most_frequent\")\n",
        "dummy_classifier.fit(train_x, train_y)\n",
        "print(f\"Accuracy of the dummy classifier: \"\n",
        "      f\"{dummy_classifier.score(val_x, val_y):.3f}\")\n",
        "\n",
        "#without learning anything from the data data, is capable of predicting as accurately as our logistic regression model"
      ],
      "execution_count": null,
      "outputs": [
        {
          "output_type": "stream",
          "name": "stdout",
          "text": [
            "Accuracy of the dummy classifier: 0.879\n"
          ]
        }
      ]
    },
    {
      "cell_type": "code",
      "metadata": {
        "colab": {
          "base_uri": "https://localhost:8080/"
        },
        "id": "lQB1aT40zQi9",
        "outputId": "7acd65b7-31ab-412e-c1b0-7dc01b7ae146"
      },
      "source": [
        "#The balanced accuracy is equivalent to accuracy in the context of balanced classes. \n",
        "#It is defined as the average recall obtained on each class\n",
        "#Good for class imbalace problem instead of accuracy\n",
        "from sklearn.metrics import balanced_accuracy_score\n",
        "\n",
        "balanced_accuracy = balanced_accuracy_score(val_y,pred)\n",
        "print(f\"Balanced accuracy: {balanced_accuracy:.3f}\")"
      ],
      "execution_count": null,
      "outputs": [
        {
          "output_type": "stream",
          "name": "stdout",
          "text": [
            "Balanced accuracy: 0.577\n"
          ]
        }
      ]
    },
    {
      "cell_type": "code",
      "metadata": {
        "colab": {
          "base_uri": "https://localhost:8080/",
          "height": 204
        },
        "id": "KAsrSNok0nql",
        "outputId": "64b1d86d-3745-4afc-c551-8ee00ea80bbc"
      },
      "source": [
        "#Evaluation and different probability thresholds\n",
        "\n",
        "target_proba_predicted = pd.DataFrame(Rf.predict_proba(val_x),\n",
        "                                      columns=Rf.classes_)\n",
        "target_proba_predicted[:5]"
      ],
      "execution_count": null,
      "outputs": [
        {
          "output_type": "execute_result",
          "data": {
            "text/html": [
              "<div>\n",
              "<style scoped>\n",
              "    .dataframe tbody tr th:only-of-type {\n",
              "        vertical-align: middle;\n",
              "    }\n",
              "\n",
              "    .dataframe tbody tr th {\n",
              "        vertical-align: top;\n",
              "    }\n",
              "\n",
              "    .dataframe thead th {\n",
              "        text-align: right;\n",
              "    }\n",
              "</style>\n",
              "<table border=\"1\" class=\"dataframe\">\n",
              "  <thead>\n",
              "    <tr style=\"text-align: right;\">\n",
              "      <th></th>\n",
              "      <th>Bad</th>\n",
              "      <th>Good</th>\n",
              "    </tr>\n",
              "  </thead>\n",
              "  <tbody>\n",
              "    <tr>\n",
              "      <th>0</th>\n",
              "      <td>0.163</td>\n",
              "      <td>0.837</td>\n",
              "    </tr>\n",
              "    <tr>\n",
              "      <th>1</th>\n",
              "      <td>0.028</td>\n",
              "      <td>0.972</td>\n",
              "    </tr>\n",
              "    <tr>\n",
              "      <th>2</th>\n",
              "      <td>0.100</td>\n",
              "      <td>0.900</td>\n",
              "    </tr>\n",
              "    <tr>\n",
              "      <th>3</th>\n",
              "      <td>0.121</td>\n",
              "      <td>0.879</td>\n",
              "    </tr>\n",
              "    <tr>\n",
              "      <th>4</th>\n",
              "      <td>0.050</td>\n",
              "      <td>0.950</td>\n",
              "    </tr>\n",
              "  </tbody>\n",
              "</table>\n",
              "</div>"
            ],
            "text/plain": [
              "     Bad   Good\n",
              "0  0.163  0.837\n",
              "1  0.028  0.972\n",
              "2  0.100  0.900\n",
              "3  0.121  0.879\n",
              "4  0.050  0.950"
            ]
          },
          "metadata": {},
          "execution_count": 277
        }
      ]
    },
    {
      "cell_type": "code",
      "metadata": {
        "colab": {
          "base_uri": "https://localhost:8080/"
        },
        "id": "aO-CF3ya1hjh",
        "outputId": "86b32575-51d8-4316-9ba7-d24bead74a46"
      },
      "source": [
        "target_predicted = Rf.predict(val_x)\n",
        "target_predicted[:5]"
      ],
      "execution_count": null,
      "outputs": [
        {
          "output_type": "execute_result",
          "data": {
            "text/plain": [
              "array(['Good', 'Good', 'Good', 'Good', 'Good'], dtype=object)"
            ]
          },
          "metadata": {},
          "execution_count": 278
        }
      ]
    },
    {
      "cell_type": "code",
      "metadata": {
        "colab": {
          "base_uri": "https://localhost:8080/"
        },
        "id": "2FhqwK8K134i",
        "outputId": "c4ee0491-a08a-4a7b-dd5b-e9232f06eef4"
      },
      "source": [
        "equivalence_pred_proba = (\n",
        "    target_proba_predicted.idxmax(axis=1).to_numpy() == target_predicted)\n",
        "np.all(equivalence_pred_proba)"
      ],
      "execution_count": null,
      "outputs": [
        {
          "output_type": "execute_result",
          "data": {
            "text/plain": [
              "True"
            ]
          },
          "metadata": {},
          "execution_count": 279
        }
      ]
    },
    {
      "cell_type": "code",
      "metadata": {
        "colab": {
          "base_uri": "https://localhost:8080/",
          "height": 639
        },
        "id": "UXfqjwRc2EzG",
        "outputId": "205e2f1e-d5a3-4e95-dbb7-12ad9ffe070f"
      },
      "source": [
        "from sklearn.metrics import plot_precision_recall_curve\n",
        "\n",
        "disp = plot_precision_recall_curve(\n",
        "    Rf, val_x, val_y, pos_label='Bad',\n",
        "    marker=\"+\"\n",
        ")\n",
        "_ = disp.ax_.set_title(\"Precision-recall curve\")"
      ],
      "execution_count": null,
      "outputs": [
        {
          "output_type": "error",
          "ename": "AttributeError",
          "evalue": "ignored",
          "traceback": [
            "\u001b[0;31m---------------------------------------------------------------------------\u001b[0m",
            "\u001b[0;31mAttributeError\u001b[0m                            Traceback (most recent call last)",
            "\u001b[0;32m<ipython-input-280-556fcfb0d3df>\u001b[0m in \u001b[0;36m<module>\u001b[0;34m()\u001b[0m\n\u001b[1;32m      3\u001b[0m disp = plot_precision_recall_curve(\n\u001b[1;32m      4\u001b[0m     \u001b[0mRf\u001b[0m\u001b[0;34m,\u001b[0m \u001b[0mval_x\u001b[0m\u001b[0;34m,\u001b[0m \u001b[0mval_y\u001b[0m\u001b[0;34m,\u001b[0m \u001b[0mpos_label\u001b[0m\u001b[0;34m=\u001b[0m\u001b[0;34m'Bad'\u001b[0m\u001b[0;34m,\u001b[0m\u001b[0;34m\u001b[0m\u001b[0;34m\u001b[0m\u001b[0m\n\u001b[0;32m----> 5\u001b[0;31m     \u001b[0mmarker\u001b[0m\u001b[0;34m=\u001b[0m\u001b[0;34m\"+\"\u001b[0m\u001b[0;34m\u001b[0m\u001b[0;34m\u001b[0m\u001b[0m\n\u001b[0m\u001b[1;32m      6\u001b[0m )\n\u001b[1;32m      7\u001b[0m \u001b[0m_\u001b[0m \u001b[0;34m=\u001b[0m \u001b[0mdisp\u001b[0m\u001b[0;34m.\u001b[0m\u001b[0max_\u001b[0m\u001b[0;34m.\u001b[0m\u001b[0mset_title\u001b[0m\u001b[0;34m(\u001b[0m\u001b[0;34m\"Precision-recall curve\"\u001b[0m\u001b[0;34m)\u001b[0m\u001b[0;34m\u001b[0m\u001b[0;34m\u001b[0m\u001b[0m\n",
            "\u001b[0;32m/usr/local/lib/python3.7/dist-packages/sklearn/metrics/_plot/precision_recall_curve.py\u001b[0m in \u001b[0;36mplot_precision_recall_curve\u001b[0;34m(estimator, X, y, sample_weight, response_method, name, ax, **kwargs)\u001b[0m\n\u001b[1;32m    169\u001b[0m         \u001b[0;34m**\u001b[0m\u001b[0mkwargs\u001b[0m\u001b[0;34m,\u001b[0m\u001b[0;34m\u001b[0m\u001b[0;34m\u001b[0m\u001b[0m\n\u001b[1;32m    170\u001b[0m     ):\n\u001b[0;32m--> 171\u001b[0;31m         \"\"\"Plot precision-recall curve given an estimator and some data.\n\u001b[0m\u001b[1;32m    172\u001b[0m \u001b[0;34m\u001b[0m\u001b[0m\n\u001b[1;32m    173\u001b[0m         \u001b[0mParameters\u001b[0m\u001b[0;34m\u001b[0m\u001b[0;34m\u001b[0m\u001b[0m\n",
            "\u001b[0;32m/usr/local/lib/python3.7/dist-packages/sklearn/metrics/_plot/precision_recall_curve.py\u001b[0m in \u001b[0;36mplot\u001b[0;34m(self, ax, name, **kwargs)\u001b[0m\n\u001b[1;32m     86\u001b[0m         \u001b[0mself\u001b[0m\u001b[0;34m,\u001b[0m\u001b[0;34m\u001b[0m\u001b[0;34m\u001b[0m\u001b[0m\n\u001b[1;32m     87\u001b[0m         \u001b[0mprecision\u001b[0m\u001b[0;34m,\u001b[0m\u001b[0;34m\u001b[0m\u001b[0;34m\u001b[0m\u001b[0m\n\u001b[0;32m---> 88\u001b[0;31m         \u001b[0mrecall\u001b[0m\u001b[0;34m,\u001b[0m\u001b[0;34m\u001b[0m\u001b[0;34m\u001b[0m\u001b[0m\n\u001b[0m\u001b[1;32m     89\u001b[0m         \u001b[0;34m*\u001b[0m\u001b[0;34m,\u001b[0m\u001b[0;34m\u001b[0m\u001b[0;34m\u001b[0m\u001b[0m\n\u001b[1;32m     90\u001b[0m         \u001b[0maverage_precision\u001b[0m\u001b[0;34m=\u001b[0m\u001b[0;32mNone\u001b[0m\u001b[0;34m,\u001b[0m\u001b[0;34m\u001b[0m\u001b[0;34m\u001b[0m\u001b[0m\n",
            "\u001b[0;32m/usr/local/lib/python3.7/dist-packages/matplotlib/axes/_axes.py\u001b[0m in \u001b[0;36mplot\u001b[0;34m(self, scalex, scaley, data, *args, **kwargs)\u001b[0m\n\u001b[1;32m   1645\u001b[0m         \"\"\"\n\u001b[1;32m   1646\u001b[0m         \u001b[0mkwargs\u001b[0m \u001b[0;34m=\u001b[0m \u001b[0mcbook\u001b[0m\u001b[0;34m.\u001b[0m\u001b[0mnormalize_kwargs\u001b[0m\u001b[0;34m(\u001b[0m\u001b[0mkwargs\u001b[0m\u001b[0;34m,\u001b[0m \u001b[0mmlines\u001b[0m\u001b[0;34m.\u001b[0m\u001b[0mLine2D\u001b[0m\u001b[0;34m)\u001b[0m\u001b[0;34m\u001b[0m\u001b[0;34m\u001b[0m\u001b[0m\n\u001b[0;32m-> 1647\u001b[0;31m         \u001b[0mlines\u001b[0m \u001b[0;34m=\u001b[0m \u001b[0;34m[\u001b[0m\u001b[0;34m*\u001b[0m\u001b[0mself\u001b[0m\u001b[0;34m.\u001b[0m\u001b[0m_get_lines\u001b[0m\u001b[0;34m(\u001b[0m\u001b[0;34m*\u001b[0m\u001b[0margs\u001b[0m\u001b[0;34m,\u001b[0m \u001b[0mdata\u001b[0m\u001b[0;34m=\u001b[0m\u001b[0mdata\u001b[0m\u001b[0;34m,\u001b[0m \u001b[0;34m**\u001b[0m\u001b[0mkwargs\u001b[0m\u001b[0;34m)\u001b[0m\u001b[0;34m]\u001b[0m\u001b[0;34m\u001b[0m\u001b[0;34m\u001b[0m\u001b[0m\n\u001b[0m\u001b[1;32m   1648\u001b[0m         \u001b[0;32mfor\u001b[0m \u001b[0mline\u001b[0m \u001b[0;32min\u001b[0m \u001b[0mlines\u001b[0m\u001b[0;34m:\u001b[0m\u001b[0;34m\u001b[0m\u001b[0;34m\u001b[0m\u001b[0m\n\u001b[1;32m   1649\u001b[0m             \u001b[0mself\u001b[0m\u001b[0;34m.\u001b[0m\u001b[0madd_line\u001b[0m\u001b[0;34m(\u001b[0m\u001b[0mline\u001b[0m\u001b[0;34m)\u001b[0m\u001b[0;34m\u001b[0m\u001b[0;34m\u001b[0m\u001b[0m\n",
            "\u001b[0;32m/usr/local/lib/python3.7/dist-packages/matplotlib/axes/_base.py\u001b[0m in \u001b[0;36m__call__\u001b[0;34m(self, *args, **kwargs)\u001b[0m\n\u001b[1;32m    214\u001b[0m                 \u001b[0mthis\u001b[0m \u001b[0;34m+=\u001b[0m \u001b[0margs\u001b[0m\u001b[0;34m[\u001b[0m\u001b[0;36m0\u001b[0m\u001b[0;34m]\u001b[0m\u001b[0;34m,\u001b[0m\u001b[0;34m\u001b[0m\u001b[0;34m\u001b[0m\u001b[0m\n\u001b[1;32m    215\u001b[0m                 \u001b[0margs\u001b[0m \u001b[0;34m=\u001b[0m \u001b[0margs\u001b[0m\u001b[0;34m[\u001b[0m\u001b[0;36m1\u001b[0m\u001b[0;34m:\u001b[0m\u001b[0;34m]\u001b[0m\u001b[0;34m\u001b[0m\u001b[0;34m\u001b[0m\u001b[0m\n\u001b[0;32m--> 216\u001b[0;31m             \u001b[0;32myield\u001b[0m \u001b[0;32mfrom\u001b[0m \u001b[0mself\u001b[0m\u001b[0;34m.\u001b[0m\u001b[0m_plot_args\u001b[0m\u001b[0;34m(\u001b[0m\u001b[0mthis\u001b[0m\u001b[0;34m,\u001b[0m \u001b[0mkwargs\u001b[0m\u001b[0;34m)\u001b[0m\u001b[0;34m\u001b[0m\u001b[0;34m\u001b[0m\u001b[0m\n\u001b[0m\u001b[1;32m    217\u001b[0m \u001b[0;34m\u001b[0m\u001b[0m\n\u001b[1;32m    218\u001b[0m     \u001b[0;32mdef\u001b[0m \u001b[0mget_next_color\u001b[0m\u001b[0;34m(\u001b[0m\u001b[0mself\u001b[0m\u001b[0;34m)\u001b[0m\u001b[0;34m:\u001b[0m\u001b[0;34m\u001b[0m\u001b[0;34m\u001b[0m\u001b[0m\n",
            "\u001b[0;32m/usr/local/lib/python3.7/dist-packages/matplotlib/axes/_base.py\u001b[0m in \u001b[0;36m_plot_args\u001b[0;34m(self, tup, kwargs)\u001b[0m\n\u001b[1;32m    362\u001b[0m                 \"non-matching shapes is deprecated.\")\n\u001b[1;32m    363\u001b[0m         return [func(x[:, j % ncx], y[:, j % ncy], kw, kwargs)\n\u001b[0;32m--> 364\u001b[0;31m                 for j in range(max(ncx, ncy))]\n\u001b[0m\u001b[1;32m    365\u001b[0m \u001b[0;34m\u001b[0m\u001b[0m\n\u001b[1;32m    366\u001b[0m \u001b[0;34m\u001b[0m\u001b[0m\n",
            "\u001b[0;32m/usr/local/lib/python3.7/dist-packages/matplotlib/axes/_base.py\u001b[0m in \u001b[0;36m<listcomp>\u001b[0;34m(.0)\u001b[0m\n\u001b[1;32m    362\u001b[0m                 \"non-matching shapes is deprecated.\")\n\u001b[1;32m    363\u001b[0m         return [func(x[:, j % ncx], y[:, j % ncy], kw, kwargs)\n\u001b[0;32m--> 364\u001b[0;31m                 for j in range(max(ncx, ncy))]\n\u001b[0m\u001b[1;32m    365\u001b[0m \u001b[0;34m\u001b[0m\u001b[0m\n\u001b[1;32m    366\u001b[0m \u001b[0;34m\u001b[0m\u001b[0m\n",
            "\u001b[0;32m/usr/local/lib/python3.7/dist-packages/matplotlib/axes/_base.py\u001b[0m in \u001b[0;36m_makeline\u001b[0;34m(self, x, y, kw, kwargs)\u001b[0m\n\u001b[1;32m    253\u001b[0m         \u001b[0mdefault_dict\u001b[0m \u001b[0;34m=\u001b[0m \u001b[0mself\u001b[0m\u001b[0;34m.\u001b[0m\u001b[0m_getdefaults\u001b[0m\u001b[0;34m(\u001b[0m\u001b[0mset\u001b[0m\u001b[0;34m(\u001b[0m\u001b[0;34m)\u001b[0m\u001b[0;34m,\u001b[0m \u001b[0mkw\u001b[0m\u001b[0;34m)\u001b[0m\u001b[0;34m\u001b[0m\u001b[0;34m\u001b[0m\u001b[0m\n\u001b[1;32m    254\u001b[0m         \u001b[0mself\u001b[0m\u001b[0;34m.\u001b[0m\u001b[0m_setdefaults\u001b[0m\u001b[0;34m(\u001b[0m\u001b[0mdefault_dict\u001b[0m\u001b[0;34m,\u001b[0m \u001b[0mkw\u001b[0m\u001b[0;34m)\u001b[0m\u001b[0;34m\u001b[0m\u001b[0;34m\u001b[0m\u001b[0m\n\u001b[0;32m--> 255\u001b[0;31m         \u001b[0mseg\u001b[0m \u001b[0;34m=\u001b[0m \u001b[0mmlines\u001b[0m\u001b[0;34m.\u001b[0m\u001b[0mLine2D\u001b[0m\u001b[0;34m(\u001b[0m\u001b[0mx\u001b[0m\u001b[0;34m,\u001b[0m \u001b[0my\u001b[0m\u001b[0;34m,\u001b[0m \u001b[0;34m**\u001b[0m\u001b[0mkw\u001b[0m\u001b[0;34m)\u001b[0m\u001b[0;34m\u001b[0m\u001b[0;34m\u001b[0m\u001b[0m\n\u001b[0m\u001b[1;32m    256\u001b[0m         \u001b[0;32mreturn\u001b[0m \u001b[0mseg\u001b[0m\u001b[0;34m\u001b[0m\u001b[0;34m\u001b[0m\u001b[0m\n\u001b[1;32m    257\u001b[0m \u001b[0;34m\u001b[0m\u001b[0m\n",
            "\u001b[0;32m/usr/local/lib/python3.7/dist-packages/matplotlib/lines.py\u001b[0m in \u001b[0;36m__init__\u001b[0;34m(self, xdata, ydata, linewidth, linestyle, color, marker, markersize, markeredgewidth, markeredgecolor, markerfacecolor, markerfacecoloralt, fillstyle, antialiased, dash_capstyle, solid_capstyle, dash_joinstyle, solid_joinstyle, pickradius, drawstyle, markevery, **kwargs)\u001b[0m\n\u001b[1;32m    398\u001b[0m         \u001b[0;31m# update kwargs before updating data to give the caller a\u001b[0m\u001b[0;34m\u001b[0m\u001b[0;34m\u001b[0m\u001b[0;34m\u001b[0m\u001b[0m\n\u001b[1;32m    399\u001b[0m         \u001b[0;31m# chance to init axes (and hence unit support)\u001b[0m\u001b[0;34m\u001b[0m\u001b[0;34m\u001b[0m\u001b[0;34m\u001b[0m\u001b[0m\n\u001b[0;32m--> 400\u001b[0;31m         \u001b[0mself\u001b[0m\u001b[0;34m.\u001b[0m\u001b[0mupdate\u001b[0m\u001b[0;34m(\u001b[0m\u001b[0mkwargs\u001b[0m\u001b[0;34m)\u001b[0m\u001b[0;34m\u001b[0m\u001b[0;34m\u001b[0m\u001b[0m\n\u001b[0m\u001b[1;32m    401\u001b[0m         \u001b[0mself\u001b[0m\u001b[0;34m.\u001b[0m\u001b[0mpickradius\u001b[0m \u001b[0;34m=\u001b[0m \u001b[0mpickradius\u001b[0m\u001b[0;34m\u001b[0m\u001b[0;34m\u001b[0m\u001b[0m\n\u001b[1;32m    402\u001b[0m         \u001b[0mself\u001b[0m\u001b[0;34m.\u001b[0m\u001b[0mind_offset\u001b[0m \u001b[0;34m=\u001b[0m \u001b[0;36m0\u001b[0m\u001b[0;34m\u001b[0m\u001b[0;34m\u001b[0m\u001b[0m\n",
            "\u001b[0;32m/usr/local/lib/python3.7/dist-packages/matplotlib/artist.py\u001b[0m in \u001b[0;36mupdate\u001b[0;34m(self, props)\u001b[0m\n\u001b[1;32m   1004\u001b[0m \u001b[0;34m\u001b[0m\u001b[0m\n\u001b[1;32m   1005\u001b[0m         \u001b[0;32mwith\u001b[0m \u001b[0mcbook\u001b[0m\u001b[0;34m.\u001b[0m\u001b[0m_setattr_cm\u001b[0m\u001b[0;34m(\u001b[0m\u001b[0mself\u001b[0m\u001b[0;34m,\u001b[0m \u001b[0meventson\u001b[0m\u001b[0;34m=\u001b[0m\u001b[0;32mFalse\u001b[0m\u001b[0;34m)\u001b[0m\u001b[0;34m:\u001b[0m\u001b[0;34m\u001b[0m\u001b[0;34m\u001b[0m\u001b[0m\n\u001b[0;32m-> 1006\u001b[0;31m             \u001b[0mret\u001b[0m \u001b[0;34m=\u001b[0m \u001b[0;34m[\u001b[0m\u001b[0m_update_property\u001b[0m\u001b[0;34m(\u001b[0m\u001b[0mself\u001b[0m\u001b[0;34m,\u001b[0m \u001b[0mk\u001b[0m\u001b[0;34m,\u001b[0m \u001b[0mv\u001b[0m\u001b[0;34m)\u001b[0m \u001b[0;32mfor\u001b[0m \u001b[0mk\u001b[0m\u001b[0;34m,\u001b[0m \u001b[0mv\u001b[0m \u001b[0;32min\u001b[0m \u001b[0mprops\u001b[0m\u001b[0;34m.\u001b[0m\u001b[0mitems\u001b[0m\u001b[0;34m(\u001b[0m\u001b[0;34m)\u001b[0m\u001b[0;34m]\u001b[0m\u001b[0;34m\u001b[0m\u001b[0;34m\u001b[0m\u001b[0m\n\u001b[0m\u001b[1;32m   1007\u001b[0m \u001b[0;34m\u001b[0m\u001b[0m\n\u001b[1;32m   1008\u001b[0m         \u001b[0;32mif\u001b[0m \u001b[0mlen\u001b[0m\u001b[0;34m(\u001b[0m\u001b[0mret\u001b[0m\u001b[0;34m)\u001b[0m\u001b[0;34m:\u001b[0m\u001b[0;34m\u001b[0m\u001b[0;34m\u001b[0m\u001b[0m\n",
            "\u001b[0;32m/usr/local/lib/python3.7/dist-packages/matplotlib/artist.py\u001b[0m in \u001b[0;36m<listcomp>\u001b[0;34m(.0)\u001b[0m\n\u001b[1;32m   1004\u001b[0m \u001b[0;34m\u001b[0m\u001b[0m\n\u001b[1;32m   1005\u001b[0m         \u001b[0;32mwith\u001b[0m \u001b[0mcbook\u001b[0m\u001b[0;34m.\u001b[0m\u001b[0m_setattr_cm\u001b[0m\u001b[0;34m(\u001b[0m\u001b[0mself\u001b[0m\u001b[0;34m,\u001b[0m \u001b[0meventson\u001b[0m\u001b[0;34m=\u001b[0m\u001b[0;32mFalse\u001b[0m\u001b[0;34m)\u001b[0m\u001b[0;34m:\u001b[0m\u001b[0;34m\u001b[0m\u001b[0;34m\u001b[0m\u001b[0m\n\u001b[0;32m-> 1006\u001b[0;31m             \u001b[0mret\u001b[0m \u001b[0;34m=\u001b[0m \u001b[0;34m[\u001b[0m\u001b[0m_update_property\u001b[0m\u001b[0;34m(\u001b[0m\u001b[0mself\u001b[0m\u001b[0;34m,\u001b[0m \u001b[0mk\u001b[0m\u001b[0;34m,\u001b[0m \u001b[0mv\u001b[0m\u001b[0;34m)\u001b[0m \u001b[0;32mfor\u001b[0m \u001b[0mk\u001b[0m\u001b[0;34m,\u001b[0m \u001b[0mv\u001b[0m \u001b[0;32min\u001b[0m \u001b[0mprops\u001b[0m\u001b[0;34m.\u001b[0m\u001b[0mitems\u001b[0m\u001b[0;34m(\u001b[0m\u001b[0;34m)\u001b[0m\u001b[0;34m]\u001b[0m\u001b[0;34m\u001b[0m\u001b[0;34m\u001b[0m\u001b[0m\n\u001b[0m\u001b[1;32m   1007\u001b[0m \u001b[0;34m\u001b[0m\u001b[0m\n\u001b[1;32m   1008\u001b[0m         \u001b[0;32mif\u001b[0m \u001b[0mlen\u001b[0m\u001b[0;34m(\u001b[0m\u001b[0mret\u001b[0m\u001b[0;34m)\u001b[0m\u001b[0;34m:\u001b[0m\u001b[0;34m\u001b[0m\u001b[0;34m\u001b[0m\u001b[0m\n",
            "\u001b[0;32m/usr/local/lib/python3.7/dist-packages/matplotlib/artist.py\u001b[0m in \u001b[0;36m_update_property\u001b[0;34m(self, k, v)\u001b[0m\n\u001b[1;32m   1000\u001b[0m                 \u001b[0;32mif\u001b[0m \u001b[0;32mnot\u001b[0m \u001b[0mcallable\u001b[0m\u001b[0;34m(\u001b[0m\u001b[0mfunc\u001b[0m\u001b[0;34m)\u001b[0m\u001b[0;34m:\u001b[0m\u001b[0;34m\u001b[0m\u001b[0;34m\u001b[0m\u001b[0m\n\u001b[1;32m   1001\u001b[0m                     raise AttributeError('{!r} object has no property {!r}'\n\u001b[0;32m-> 1002\u001b[0;31m                                          .format(type(self).__name__, k))\n\u001b[0m\u001b[1;32m   1003\u001b[0m                 \u001b[0;32mreturn\u001b[0m \u001b[0mfunc\u001b[0m\u001b[0;34m(\u001b[0m\u001b[0mv\u001b[0m\u001b[0;34m)\u001b[0m\u001b[0;34m\u001b[0m\u001b[0;34m\u001b[0m\u001b[0m\n\u001b[1;32m   1004\u001b[0m \u001b[0;34m\u001b[0m\u001b[0m\n",
            "\u001b[0;31mAttributeError\u001b[0m: 'Line2D' object has no property 'pos_label'"
          ]
        },
        {
          "output_type": "display_data",
          "data": {
            "image/png": "[encoded data removed]",
            "text/plain": [
              "<Figure size 432x288 with 1 Axes>"
            ]
          },
          "metadata": {
            "needs_background": "light"
          }
        }
      ]
    },
    {
      "cell_type": "code",
      "metadata": {
        "id": "nFW1WoAH2156"
      },
      "source": [
        ""
      ],
      "execution_count": null,
      "outputs": []
    }
  ]
}