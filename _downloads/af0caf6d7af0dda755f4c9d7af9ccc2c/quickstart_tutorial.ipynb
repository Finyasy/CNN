{
  "cells": [
    {
      "cell_type": "markdown",
      "metadata": {
        "id": "view-in-github",
        "colab_type": "text"
      },
      "source": [
        "<a href=\"https://colab.research.google.com/github/Finyasy/CNN/blob/main/_downloads/af0caf6d7af0dda755f4c9d7af9ccc2c/quickstart_tutorial.ipynb\" target=\"_parent\"><img src=\"https://colab.research.google.com/assets/colab-badge.svg\" alt=\"Open In Colab\"/></a>"
      ]
    },
    {
      "cell_type": "code",
      "execution_count": 1,
      "metadata": {
        "id": "Z2R6Ni-dlVbk"
      },
      "outputs": [],
      "source": [
        "# For tips on running notebooks in Google Colab, see\n",
        "# https://pytorch.org/tutorials/beginner/colab\n",
        "%matplotlib inline"
      ]
    },
    {
      "cell_type": "markdown",
      "metadata": {
        "id": "ayFQmMY2lVbm"
      },
      "source": [
        "[Learn the Basics](intro.html) \\|\\| **Quickstart** \\|\\|\n",
        "[Tensors](tensorqs_tutorial.html) \\|\\| [Datasets &\n",
        "DataLoaders](data_tutorial.html) \\|\\|\n",
        "[Transforms](transforms_tutorial.html) \\|\\| [Build\n",
        "Model](buildmodel_tutorial.html) \\|\\|\n",
        "[Autograd](autogradqs_tutorial.html) \\|\\|\n",
        "[Optimization](optimization_tutorial.html) \\|\\| [Save & Load\n",
        "Model](saveloadrun_tutorial.html)\n",
        "\n",
        "Quickstart\n",
        "==========\n",
        "\n",
        "This section runs through the API for common tasks in machine learning.\n",
        "Refer to the links in each section to dive deeper.\n",
        "\n",
        "Working with data\n",
        "-----------------\n",
        "\n",
        "PyTorch has two [primitives to work with\n",
        "data](https://pytorch.org/docs/stable/data.html):\n",
        "`torch.utils.data.DataLoader` and `torch.utils.data.Dataset`. `Dataset`\n",
        "stores the samples and their corresponding labels, and `DataLoader`\n",
        "wraps an iterable around the `Dataset`.\n"
      ]
    },
    {
      "cell_type": "code",
      "execution_count": 2,
      "metadata": {
        "id": "CNSfXdK1lVbm"
      },
      "outputs": [],
      "source": [
        "import torch\n",
        "from torch import nn\n",
        "from torch.utils.data import DataLoader\n",
        "from torchvision import datasets\n",
        "from torchvision.transforms import ToTensor"
      ]
    },
    {
      "cell_type": "markdown",
      "metadata": {
        "id": "tFueUWmjlVbn"
      },
      "source": [
        "PyTorch offers domain-specific libraries such as\n",
        "[TorchText](https://pytorch.org/text/stable/index.html),\n",
        "[TorchVision](https://pytorch.org/vision/stable/index.html), and\n",
        "[TorchAudio](https://pytorch.org/audio/stable/index.html), all of which\n",
        "include datasets. For this tutorial, we will be using a TorchVision\n",
        "dataset.\n",
        "\n",
        "The `torchvision.datasets` module contains `Dataset` objects for many\n",
        "real-world vision data like CIFAR, COCO ([full list\n",
        "here](https://pytorch.org/vision/stable/datasets.html)). In this\n",
        "tutorial, we use the FashionMNIST dataset. Every TorchVision `Dataset`\n",
        "includes two arguments: `transform` and `target_transform` to modify the\n",
        "samples and labels respectively.\n"
      ]
    },
    {
      "cell_type": "code",
      "execution_count": 3,
      "metadata": {
        "id": "HzhyrThblVbn",
        "outputId": "dec0a268-1c22-4056-91fc-ea3d390023e6",
        "colab": {
          "base_uri": "https://localhost:8080/"
        }
      },
      "outputs": [
        {
          "output_type": "stream",
          "name": "stderr",
          "text": [
            "100%|██████████| 26.4M/26.4M [00:01<00:00, 17.6MB/s]\n",
            "100%|██████████| 29.5k/29.5k [00:00<00:00, 307kB/s]\n",
            "100%|██████████| 4.42M/4.42M [00:00<00:00, 5.55MB/s]\n",
            "100%|██████████| 5.15k/5.15k [00:00<00:00, 10.2MB/s]\n"
          ]
        }
      ],
      "source": [
        "# Download training data from open datasets.\n",
        "training_data = datasets.FashionMNIST(\n",
        "    root=\"data\",\n",
        "    train=True,\n",
        "    download=True,\n",
        "    transform=ToTensor(),\n",
        ")\n",
        "\n",
        "# Download test data from open datasets.\n",
        "test_data = datasets.FashionMNIST(\n",
        "    root=\"data\",\n",
        "    train=False,\n",
        "    download=True,\n",
        "    transform=ToTensor(),\n",
        ")"
      ]
    },
    {
      "cell_type": "markdown",
      "metadata": {
        "id": "7v2nvxMUlVbn"
      },
      "source": [
        "We pass the `Dataset` as an argument to `DataLoader`. This wraps an\n",
        "iterable over our dataset, and supports automatic batching, sampling,\n",
        "shuffling and multiprocess data loading. Here we define a batch size of\n",
        "64, i.e. each element in the dataloader iterable will return a batch of\n",
        "64 features and labels.\n"
      ]
    },
    {
      "cell_type": "code",
      "execution_count": 4,
      "metadata": {
        "id": "ukj81neulVbn",
        "outputId": "b0ea2264-f39e-4b23-9a51-3524af5b4022",
        "colab": {
          "base_uri": "https://localhost:8080/"
        }
      },
      "outputs": [
        {
          "output_type": "stream",
          "name": "stdout",
          "text": [
            "Shape of X [N, C, H, W]: torch.Size([64, 1, 28, 28])\n",
            "Shape of y: torch.Size([64]) torch.int64\n"
          ]
        }
      ],
      "source": [
        "batch_size = 64\n",
        "\n",
        "# Create data loaders.\n",
        "train_dataloader = DataLoader(training_data, batch_size=batch_size)\n",
        "test_dataloader = DataLoader(test_data, batch_size=batch_size)\n",
        "\n",
        "for X, y in test_dataloader:\n",
        "    print(f\"Shape of X [N, C, H, W]: {X.shape}\")\n",
        "    print(f\"Shape of y: {y.shape} {y.dtype}\")\n",
        "    break"
      ]
    },
    {
      "cell_type": "markdown",
      "metadata": {
        "id": "dl4ImWSdlVbn"
      },
      "source": [
        "Read more about [loading data in PyTorch](data_tutorial.html).\n"
      ]
    },
    {
      "cell_type": "markdown",
      "metadata": {
        "id": "wI3g0gaHlVbn"
      },
      "source": [
        "------------------------------------------------------------------------\n"
      ]
    },
    {
      "cell_type": "markdown",
      "metadata": {
        "id": "bYFmVkPGlVbn"
      },
      "source": [
        "Creating Models\n",
        "===============\n",
        "\n",
        "To define a neural network in PyTorch, we create a class that inherits\n",
        "from\n",
        "[nn.Module](https://pytorch.org/docs/stable/generated/torch.nn.Module.html).\n",
        "We define the layers of the network in the `__init__` function and\n",
        "specify how data will pass through the network in the `forward`\n",
        "function. To accelerate operations in the neural network, we move it to\n",
        "the\n",
        "[accelerator](https://pytorch.org/docs/stable/torch.html#accelerators)\n",
        "such as CUDA, MPS, MTIA, or XPU. If the current accelerator is\n",
        "available, we will use it. Otherwise, we use the CPU.\n"
      ]
    },
    {
      "cell_type": "code",
      "execution_count": 5,
      "metadata": {
        "id": "lsK1OcgOlVbo",
        "outputId": "49d7f98b-3a45-40a2-ef56-70d7b02dc630",
        "colab": {
          "base_uri": "https://localhost:8080/"
        }
      },
      "outputs": [
        {
          "output_type": "stream",
          "name": "stdout",
          "text": [
            "Using cpu device\n",
            "NeuralNetwork(\n",
            "  (flatten): Flatten(start_dim=1, end_dim=-1)\n",
            "  (linear_relu_stack): Sequential(\n",
            "    (0): Linear(in_features=784, out_features=512, bias=True)\n",
            "    (1): ReLU()\n",
            "    (2): Linear(in_features=512, out_features=512, bias=True)\n",
            "    (3): ReLU()\n",
            "    (4): Linear(in_features=512, out_features=10, bias=True)\n",
            "  )\n",
            ")\n"
          ]
        }
      ],
      "source": [
        "device = torch.accelerator.current_accelerator().type if torch.accelerator.is_available() else \"cpu\"\n",
        "print(f\"Using {device} device\")\n",
        "\n",
        "# Define model\n",
        "class NeuralNetwork(nn.Module):\n",
        "    def __init__(self):\n",
        "        super().__init__()\n",
        "        self.flatten = nn.Flatten()\n",
        "        self.linear_relu_stack = nn.Sequential(\n",
        "            nn.Linear(28*28, 512),\n",
        "            nn.ReLU(),\n",
        "            nn.Linear(512, 512),\n",
        "            nn.ReLU(),\n",
        "            nn.Linear(512, 10)\n",
        "        )\n",
        "\n",
        "    def forward(self, x):\n",
        "        x = self.flatten(x)\n",
        "        logits = self.linear_relu_stack(x)\n",
        "        return logits\n",
        "\n",
        "model = NeuralNetwork().to(device)\n",
        "print(model)"
      ]
    },
    {
      "cell_type": "markdown",
      "metadata": {
        "id": "Tv9dE_BVlVbo"
      },
      "source": [
        "Read more about [building neural networks in\n",
        "PyTorch](buildmodel_tutorial.html).\n"
      ]
    },
    {
      "cell_type": "markdown",
      "metadata": {
        "id": "5kA5N1mYlVbo"
      },
      "source": [
        "------------------------------------------------------------------------\n"
      ]
    },
    {
      "cell_type": "markdown",
      "metadata": {
        "id": "LN4DbVMDlVbo"
      },
      "source": [
        "Optimizing the Model Parameters\n",
        "===============================\n",
        "\n",
        "To train a model, we need a [loss\n",
        "function](https://pytorch.org/docs/stable/nn.html#loss-functions) and an\n",
        "[optimizer](https://pytorch.org/docs/stable/optim.html).\n"
      ]
    },
    {
      "cell_type": "code",
      "execution_count": 7,
      "metadata": {
        "id": "zidCjpKSlVbo"
      },
      "outputs": [],
      "source": [
        "loss_fn = nn.CrossEntropyLoss()\n",
        "optimizer = torch.optim.SGD(model.parameters(), lr=1e-3)"
      ]
    },
    {
      "cell_type": "markdown",
      "metadata": {
        "id": "esIJcVT_lVbo"
      },
      "source": [
        "In a single training loop, the model makes predictions on the training\n",
        "dataset (fed to it in batches), and backpropagates the prediction error\n",
        "to adjust the model\\'s parameters.\n"
      ]
    },
    {
      "cell_type": "code",
      "execution_count": 9,
      "metadata": {
        "id": "ZVx5GHyGlVbo"
      },
      "outputs": [],
      "source": [
        "def train(dataloader, model, loss_fn, optimizer):\n",
        "    size = len(dataloader.dataset)\n",
        "    model.train()\n",
        "    for batch, (X, y) in enumerate(dataloader):\n",
        "        X, y = X.to(device), y.to(device)\n",
        "\n",
        "        # Compute prediction error\n",
        "        pred = model(X)\n",
        "        loss = loss_fn(pred, y)\n",
        "\n",
        "        # Backpropagation\n",
        "        loss.backward()\n",
        "        optimizer.step()\n",
        "        optimizer.zero_grad()\n",
        "\n",
        "        if batch % 100 == 0:\n",
        "            loss, current = loss.item(), (batch + 1) * len(X)\n",
        "            print(f\"loss: {loss:>7f}  [{current:>5d}/{size:>5d}]\")"
      ]
    },
    {
      "cell_type": "markdown",
      "metadata": {
        "id": "QKa5FGxVlVbo"
      },
      "source": [
        "We also check the model\\'s performance against the test dataset to\n",
        "ensure it is learning.\n"
      ]
    },
    {
      "cell_type": "code",
      "execution_count": 10,
      "metadata": {
        "id": "mGDD12q1lVbo"
      },
      "outputs": [],
      "source": [
        "def test(dataloader, model, loss_fn):\n",
        "    size = len(dataloader.dataset)\n",
        "    num_batches = len(dataloader)\n",
        "    model.eval()\n",
        "    test_loss, correct = 0, 0\n",
        "    with torch.no_grad():\n",
        "        for X, y in dataloader:\n",
        "            X, y = X.to(device), y.to(device)\n",
        "            pred = model(X)\n",
        "            test_loss += loss_fn(pred, y).item()\n",
        "            correct += (pred.argmax(1) == y).type(torch.float).sum().item()\n",
        "    test_loss /= num_batches\n",
        "    correct /= size\n",
        "    print(f\"Test Error: \\n Accuracy: {(100*correct):>0.1f}%, Avg loss: {test_loss:>8f} \\n\")"
      ]
    },
    {
      "cell_type": "markdown",
      "metadata": {
        "id": "ny6j9GiFlVbo"
      },
      "source": [
        "The training process is conducted over several iterations (*epochs*).\n",
        "During each epoch, the model learns parameters to make better\n",
        "predictions. We print the model\\'s accuracy and loss at each epoch;\n",
        "we\\'d like to see the accuracy increase and the loss decrease with every\n",
        "epoch.\n"
      ]
    },
    {
      "cell_type": "code",
      "execution_count": 11,
      "metadata": {
        "id": "YpyjvKxGlVbo",
        "outputId": "9060430c-0f01-427b-d360-0d08a72f4d30",
        "colab": {
          "base_uri": "https://localhost:8080/"
        }
      },
      "outputs": [
        {
          "output_type": "stream",
          "name": "stdout",
          "text": [
            "Epoch 1\n",
            "-------------------------------\n",
            "loss: 2.312024  [   64/60000]\n",
            "loss: 2.295134  [ 6464/60000]\n",
            "loss: 2.275202  [12864/60000]\n",
            "loss: 2.264671  [19264/60000]\n",
            "loss: 2.236678  [25664/60000]\n",
            "loss: 2.218847  [32064/60000]\n",
            "loss: 2.224544  [38464/60000]\n",
            "loss: 2.192863  [44864/60000]\n",
            "loss: 2.199118  [51264/60000]\n",
            "loss: 2.152492  [57664/60000]\n",
            "Test Error: \n",
            " Accuracy: 45.2%, Avg loss: 2.148267 \n",
            "\n",
            "Epoch 2\n",
            "-------------------------------\n",
            "loss: 2.164841  [   64/60000]\n",
            "loss: 2.155088  [ 6464/60000]\n",
            "loss: 2.091535  [12864/60000]\n",
            "loss: 2.107515  [19264/60000]\n",
            "loss: 2.053555  [25664/60000]\n",
            "loss: 1.996010  [32064/60000]\n",
            "loss: 2.033695  [38464/60000]\n",
            "loss: 1.951576  [44864/60000]\n",
            "loss: 1.961777  [51264/60000]\n",
            "loss: 1.882227  [57664/60000]\n",
            "Test Error: \n",
            " Accuracy: 57.2%, Avg loss: 1.879393 \n",
            "\n",
            "Epoch 3\n",
            "-------------------------------\n",
            "loss: 1.913644  [   64/60000]\n",
            "loss: 1.887048  [ 6464/60000]\n",
            "loss: 1.758730  [12864/60000]\n",
            "loss: 1.804528  [19264/60000]\n",
            "loss: 1.700474  [25664/60000]\n",
            "loss: 1.650463  [32064/60000]\n",
            "loss: 1.682970  [38464/60000]\n",
            "loss: 1.577508  [44864/60000]\n",
            "loss: 1.602980  [51264/60000]\n",
            "loss: 1.500705  [57664/60000]\n",
            "Test Error: \n",
            " Accuracy: 61.0%, Avg loss: 1.515590 \n",
            "\n",
            "Epoch 4\n",
            "-------------------------------\n",
            "loss: 1.578064  [   64/60000]\n",
            "loss: 1.551293  [ 6464/60000]\n",
            "loss: 1.390729  [12864/60000]\n",
            "loss: 1.468747  [19264/60000]\n",
            "loss: 1.355046  [25664/60000]\n",
            "loss: 1.349633  [32064/60000]\n",
            "loss: 1.369994  [38464/60000]\n",
            "loss: 1.289626  [44864/60000]\n",
            "loss: 1.327374  [51264/60000]\n",
            "loss: 1.228060  [57664/60000]\n",
            "Test Error: \n",
            " Accuracy: 63.1%, Avg loss: 1.255009 \n",
            "\n",
            "Epoch 5\n",
            "-------------------------------\n",
            "loss: 1.327572  [   64/60000]\n",
            "loss: 1.317611  [ 6464/60000]\n",
            "loss: 1.145347  [12864/60000]\n",
            "loss: 1.252235  [19264/60000]\n",
            "loss: 1.129385  [25664/60000]\n",
            "loss: 1.154114  [32064/60000]\n",
            "loss: 1.178710  [38464/60000]\n",
            "loss: 1.112470  [44864/60000]\n",
            "loss: 1.155632  [51264/60000]\n",
            "loss: 1.070967  [57664/60000]\n",
            "Test Error: \n",
            " Accuracy: 64.7%, Avg loss: 1.092887 \n",
            "\n",
            "Done!\n"
          ]
        }
      ],
      "source": [
        "epochs = 5\n",
        "for t in range(epochs):\n",
        "    print(f\"Epoch {t+1}\\n-------------------------------\")\n",
        "    train(train_dataloader, model, loss_fn, optimizer)\n",
        "    test(test_dataloader, model, loss_fn)\n",
        "print(\"Done!\")"
      ]
    },
    {
      "cell_type": "code",
      "source": [
        "import torch\n",
        "from torch.optim.lr_scheduler import StepLR\n",
        "import math\n",
        "import time\n",
        "\n",
        "# --- (Optional) update: have test() return metrics ---\n",
        "def test(dataloader, model, loss_fn):\n",
        "    size = len(dataloader.dataset)\n",
        "    num_batches = len(dataloader)\n",
        "    model.eval()\n",
        "    test_loss, correct = 0.0, 0.0\n",
        "    with torch.no_grad():\n",
        "        for X, y in dataloader:\n",
        "            X, y = X.to(device), y.to(device)\n",
        "            pred = model(X)\n",
        "            test_loss += loss_fn(pred, y).item()\n",
        "            correct += (pred.argmax(1) == y).type(torch.float).sum().item()\n",
        "    test_loss /= num_batches\n",
        "    accuracy = correct / size\n",
        "    return test_loss, accuracy\n",
        "\n",
        "# --- Scheduler (optional but recommended) ---\n",
        "# Decays LR by gamma every step_size epochs\n",
        "scheduler = StepLR(optimizer, step_size=5, gamma=0.5)\n",
        "\n",
        "# --- Training config ---\n",
        "epochs = 20\n",
        "best_acc = -math.inf\n",
        "history = []  # to store metrics per epoch\n",
        "\n",
        "start_time = time.time()\n",
        "for epoch in range(1, epochs + 1):\n",
        "    print(f\"\\nEpoch {epoch}/{epochs}\")\n",
        "\n",
        "    # Train for one epoch (uses your existing train() that prints every 100 batches)\n",
        "    train(train_dataloader, model, loss_fn, optimizer)\n",
        "\n",
        "    # Evaluate\n",
        "    val_loss, val_acc = test(test_dataloader, model, loss_fn)\n",
        "    print(f\"Validation: accuracy={val_acc*100:.2f}% | avg_loss={val_loss:.4f}\")\n",
        "\n",
        "    # Step LR scheduler\n",
        "    scheduler.step()\n",
        "\n",
        "    # Save best model (by validation accuracy)\n",
        "    if val_acc > best_acc:\n",
        "        best_acc = val_acc\n",
        "        torch.save({\n",
        "            \"epoch\": epoch,\n",
        "            \"model_state_dict\": model.state_dict(),\n",
        "            \"optimizer_state_dict\": optimizer.state_dict(),\n",
        "            \"val_accuracy\": val_acc,\n",
        "            \"val_loss\": val_loss,\n",
        "        }, \"best_model.pth\")\n",
        "        print(\"✅ Saved new best model -> best_model.pth\")\n",
        "\n",
        "    # Keep a log you can plot later\n",
        "    history.append({\n",
        "        \"epoch\": epoch,\n",
        "        \"val_loss\": float(val_loss),\n",
        "        \"val_acc\": float(val_acc),\n",
        "        \"lr\": scheduler.optimizer.param_groups[0][\"lr\"],\n",
        "    })\n",
        "\n",
        "elapsed = time.time() - start_time\n",
        "print(f\"\\nTraining finished in {elapsed/60:.1f} min | Best val acc: {best_acc*100:.2f}%\")"
      ],
      "metadata": {
        "id": "AH3QOhyMqQEl",
        "outputId": "21cf1cb3-2581-4e31-d06b-2b73a14cf229",
        "colab": {
          "base_uri": "https://localhost:8080/"
        }
      },
      "execution_count": null,
      "outputs": [
        {
          "output_type": "stream",
          "name": "stdout",
          "text": [
            "\n",
            "Epoch 1/20\n",
            "loss: 1.160023  [   64/60000]\n",
            "loss: 1.170264  [ 6464/60000]\n",
            "loss: 0.981899  [12864/60000]\n",
            "loss: 1.117138  [19264/60000]\n",
            "loss: 0.988482  [25664/60000]\n",
            "loss: 1.021690  [32064/60000]\n",
            "loss: 1.060651  [38464/60000]\n",
            "loss: 0.998754  [44864/60000]\n",
            "loss: 1.042511  [51264/60000]\n",
            "loss: 0.973725  [57664/60000]\n",
            "Validation: accuracy=65.87% | avg_loss=0.9874\n",
            "✅ Saved new best model -> best_model.pth\n",
            "\n",
            "Epoch 2/20\n",
            "loss: 1.042499  [   64/60000]\n",
            "loss: 1.074413  [ 6464/60000]\n",
            "loss: 0.868116  [12864/60000]\n",
            "loss: 1.026603  [19264/60000]\n",
            "loss: 0.898966  [25664/60000]\n",
            "loss: 0.927905  [32064/60000]\n",
            "loss: 0.982947  [38464/60000]\n",
            "loss: 0.923151  [44864/60000]\n",
            "loss: 0.962957  [51264/60000]\n",
            "loss: 0.908348  [57664/60000]\n",
            "Validation: accuracy=67.14% | avg_loss=0.9146\n",
            "✅ Saved new best model -> best_model.pth\n",
            "\n",
            "Epoch 3/20\n",
            "loss: 0.955132  [   64/60000]\n",
            "loss: 1.006796  [ 6464/60000]\n",
            "loss: 0.785025  [12864/60000]\n",
            "loss: 0.961988  [19264/60000]\n",
            "loss: 0.838433  [25664/60000]\n",
            "loss: 0.858879  [32064/60000]\n",
            "loss: 0.928096  [38464/60000]\n",
            "loss: 0.871091  [44864/60000]\n",
            "loss: 0.904949  [51264/60000]\n",
            "loss: 0.860891  [57664/60000]\n",
            "Validation: accuracy=68.46% | avg_loss=0.8617\n",
            "✅ Saved new best model -> best_model.pth\n",
            "\n",
            "Epoch 4/20\n",
            "loss: 0.887352  [   64/60000]\n",
            "loss: 0.955185  [ 6464/60000]\n",
            "loss: 0.722003  [12864/60000]\n",
            "loss: 0.913162  [19264/60000]\n",
            "loss: 0.795021  [25664/60000]\n",
            "loss: 0.807134  [32064/60000]\n",
            "loss: 0.886486  [38464/60000]\n",
            "loss: 0.833932  [44864/60000]\n",
            "loss: 0.861384  [51264/60000]\n",
            "loss: 0.824145  [57664/60000]\n",
            "Validation: accuracy=69.76% | avg_loss=0.8212\n",
            "✅ Saved new best model -> best_model.pth\n",
            "\n",
            "Epoch 5/20\n",
            "loss: 0.833015  [   64/60000]\n",
            "loss: 0.913064  [ 6464/60000]\n",
            "loss: 0.672612  [12864/60000]\n",
            "loss: 0.874870  [19264/60000]\n",
            "loss: 0.761890  [25664/60000]\n",
            "loss: 0.767547  [32064/60000]\n",
            "loss: 0.852723  [38464/60000]\n",
            "loss: 0.806192  [44864/60000]\n",
            "loss: 0.827368  [51264/60000]\n",
            "loss: 0.794102  [57664/60000]\n",
            "Validation: accuracy=71.19% | avg_loss=0.7889\n",
            "✅ Saved new best model -> best_model.pth\n",
            "\n",
            "Epoch 6/20\n",
            "loss: 0.788084  [   64/60000]\n",
            "loss: 0.878053  [ 6464/60000]\n",
            "loss: 0.635980  [12864/60000]\n",
            "loss: 0.848080  [19264/60000]\n",
            "loss: 0.741380  [25664/60000]\n",
            "loss: 0.743951  [32064/60000]\n",
            "loss: 0.832508  [38464/60000]\n",
            "loss: 0.794346  [44864/60000]\n",
            "loss: 0.810451  [51264/60000]\n",
            "loss: 0.779924  [57664/60000]\n",
            "Validation: accuracy=71.92% | avg_loss=0.7748\n",
            "✅ Saved new best model -> best_model.pth\n",
            "\n",
            "Epoch 7/20\n",
            "loss: 0.768598  [   64/60000]\n",
            "loss: 0.862119  [ 6464/60000]\n",
            "loss: 0.618542  [12864/60000]\n",
            "loss: 0.834136  [19264/60000]\n",
            "loss: 0.729641  [25664/60000]\n",
            "loss: 0.730242  [32064/60000]\n",
            "loss: 0.818963  [38464/60000]\n",
            "loss: 0.784314  [44864/60000]\n",
            "loss: 0.797673  [51264/60000]\n",
            "loss: 0.767734  [57664/60000]\n",
            "Validation: accuracy=72.53% | avg_loss=0.7619\n",
            "✅ Saved new best model -> best_model.pth\n",
            "\n",
            "Epoch 8/20\n",
            "loss: 0.750213  [   64/60000]\n",
            "loss: 0.846529  [ 6464/60000]\n",
            "loss: 0.602451  [12864/60000]\n",
            "loss: 0.821459  [19264/60000]\n",
            "loss: 0.718737  [25664/60000]\n",
            "loss: 0.717961  [32064/60000]\n",
            "loss: 0.806176  [38464/60000]\n",
            "loss: 0.775152  [44864/60000]\n",
            "loss: 0.785993  [51264/60000]\n",
            "loss: 0.756365  [57664/60000]\n",
            "Validation: accuracy=73.03% | avg_loss=0.7499\n",
            "✅ Saved new best model -> best_model.pth\n",
            "\n",
            "Epoch 9/20\n",
            "loss: 0.733050  [   64/60000]\n",
            "loss: 0.831683  [ 6464/60000]\n",
            "loss: 0.587667  [12864/60000]\n",
            "loss: 0.809804  [19264/60000]\n",
            "loss: 0.708705  [25664/60000]\n",
            "loss: 0.706927  [32064/60000]\n",
            "loss: 0.794042  [38464/60000]\n",
            "loss: 0.766703  [44864/60000]\n",
            "loss: 0.775232  [51264/60000]\n",
            "loss: 0.745670  [57664/60000]\n",
            "Validation: accuracy=73.45% | avg_loss=0.7388\n",
            "✅ Saved new best model -> best_model.pth\n",
            "\n",
            "Epoch 10/20\n",
            "loss: 0.716954  [   64/60000]\n",
            "loss: 0.817503  [ 6464/60000]\n",
            "loss: 0.574033  [12864/60000]\n",
            "loss: 0.799029  [19264/60000]\n",
            "loss: 0.699402  [25664/60000]\n",
            "loss: 0.696924  [32064/60000]\n",
            "loss: 0.782442  [38464/60000]\n",
            "loss: 0.758823  [44864/60000]\n",
            "loss: 0.765259  [51264/60000]\n",
            "loss: 0.735530  [57664/60000]\n",
            "Validation: accuracy=73.93% | avg_loss=0.7282\n",
            "✅ Saved new best model -> best_model.pth\n",
            "\n",
            "Epoch 11/20\n",
            "loss: 0.701768  [   64/60000]\n",
            "loss: 0.803986  [ 6464/60000]\n",
            "loss: 0.562653  [12864/60000]\n",
            "loss: 0.790925  [19264/60000]\n",
            "loss: 0.692370  [25664/60000]\n",
            "loss: 0.688636  [32064/60000]\n",
            "loss: 0.775315  [38464/60000]\n",
            "loss: 0.754913  [44864/60000]\n",
            "loss: 0.758053  [51264/60000]\n",
            "loss: 0.730747  [57664/60000]\n",
            "Validation: accuracy=74.16% | avg_loss=0.7232\n",
            "✅ Saved new best model -> best_model.pth\n",
            "\n",
            "Epoch 12/20\n",
            "loss: 0.694587  [   64/60000]\n",
            "loss: 0.797938  [ 6464/60000]\n",
            "loss: 0.556904  [12864/60000]\n",
            "loss: 0.786019  [19264/60000]\n",
            "loss: 0.688195  [25664/60000]\n",
            "loss: 0.684196  [32064/60000]\n",
            "loss: 0.769753  [38464/60000]\n",
            "loss: 0.751387  [44864/60000]\n",
            "loss: 0.753498  [51264/60000]\n",
            "loss: 0.725955  [57664/60000]\n",
            "Validation: accuracy=74.34% | avg_loss=0.7182\n",
            "✅ Saved new best model -> best_model.pth\n",
            "\n",
            "Epoch 13/20\n",
            "loss: 0.687543  [   64/60000]\n",
            "loss: 0.791483  [ 6464/60000]\n",
            "loss: 0.551110  [12864/60000]\n",
            "loss: 0.781392  [19264/60000]\n",
            "loss: 0.684136  [25664/60000]\n",
            "loss: 0.680010  [32064/60000]\n",
            "loss: 0.764383  [38464/60000]\n",
            "loss: 0.747884  [44864/60000]\n",
            "loss: 0.749090  [51264/60000]\n",
            "loss: 0.721299  [57664/60000]\n",
            "Validation: accuracy=74.45% | avg_loss=0.7134\n",
            "✅ Saved new best model -> best_model.pth\n",
            "\n",
            "Epoch 14/20\n",
            "loss: 0.680694  [   64/60000]\n",
            "loss: 0.785145  [ 6464/60000]\n",
            "loss: 0.545497  [12864/60000]\n",
            "loss: 0.776930  [19264/60000]\n",
            "loss: 0.680210  [25664/60000]\n",
            "loss: 0.676019  [32064/60000]\n",
            "loss: 0.759113  [38464/60000]\n",
            "loss: 0.744464  [44864/60000]\n",
            "loss: 0.744843  [51264/60000]\n",
            "loss: 0.716741  [57664/60000]\n",
            "Validation: accuracy=74.57% | avg_loss=0.7088\n",
            "✅ Saved new best model -> best_model.pth\n",
            "\n",
            "Epoch 15/20\n",
            "loss: 0.674025  [   64/60000]\n",
            "loss: 0.778925  [ 6464/60000]\n",
            "loss: 0.540082  [12864/60000]\n",
            "loss: 0.772610  [19264/60000]\n",
            "loss: 0.676422  [25664/60000]\n",
            "loss: 0.672197  [32064/60000]\n",
            "loss: 0.753932  [38464/60000]\n",
            "loss: 0.741135  [44864/60000]\n",
            "loss: 0.740723  [51264/60000]\n",
            "loss: 0.712276  [57664/60000]\n",
            "Validation: accuracy=74.89% | avg_loss=0.7042\n",
            "✅ Saved new best model -> best_model.pth\n",
            "\n",
            "Epoch 16/20\n",
            "loss: 0.667522  [   64/60000]\n",
            "loss: 0.772904  [ 6464/60000]\n",
            "loss: 0.535714  [12864/60000]\n",
            "loss: 0.769596  [19264/60000]\n",
            "loss: 0.672636  [25664/60000]\n",
            "loss: 0.668083  [32064/60000]\n",
            "loss: 0.751019  [38464/60000]\n",
            "loss: 0.739129  [44864/60000]\n",
            "loss: 0.736968  [51264/60000]\n",
            "loss: 0.710020  [57664/60000]\n",
            "Validation: accuracy=74.94% | avg_loss=0.7020\n",
            "✅ Saved new best model -> best_model.pth\n",
            "\n",
            "Epoch 17/20\n",
            "loss: 0.664072  [   64/60000]\n",
            "loss: 0.769949  [ 6464/60000]\n",
            "loss: 0.533231  [12864/60000]\n",
            "loss: 0.767418  [19264/60000]\n",
            "loss: 0.670996  [25664/60000]\n",
            "loss: 0.666138  [32064/60000]\n",
            "loss: 0.748416  [38464/60000]\n",
            "loss: 0.737628  [44864/60000]\n",
            "loss: 0.734948  [51264/60000]\n",
            "loss: 0.707778  [57664/60000]\n"
          ]
        }
      ]
    },
    {
      "cell_type": "markdown",
      "metadata": {
        "id": "mmxqMte5lVbo"
      },
      "source": [
        "Read more about [Training your model](optimization_tutorial.html).\n"
      ]
    },
    {
      "cell_type": "markdown",
      "metadata": {
        "id": "jbi_7YTIlVbp"
      },
      "source": [
        "------------------------------------------------------------------------\n"
      ]
    },
    {
      "cell_type": "markdown",
      "metadata": {
        "id": "I3SH4NvFlVbp"
      },
      "source": [
        "Saving Models\n",
        "=============\n",
        "\n",
        "A common way to save a model is to serialize the internal state\n",
        "dictionary (containing the model parameters).\n"
      ]
    },
    {
      "cell_type": "code",
      "execution_count": null,
      "metadata": {
        "id": "WD57MAZJlVbp"
      },
      "outputs": [],
      "source": [
        "torch.save(model.state_dict(), \"model.pth\")\n",
        "print(\"Saved PyTorch Model State to model.pth\")"
      ]
    },
    {
      "cell_type": "markdown",
      "metadata": {
        "id": "ebVzEsg6lVbp"
      },
      "source": [
        "Loading Models\n",
        "==============\n",
        "\n",
        "The process for loading a model includes re-creating the model structure\n",
        "and loading the state dictionary into it.\n"
      ]
    },
    {
      "cell_type": "code",
      "execution_count": null,
      "metadata": {
        "id": "CrfyvGXblVbp"
      },
      "outputs": [],
      "source": [
        "model = NeuralNetwork().to(device)\n",
        "model.load_state_dict(torch.load(\"model.pth\", weights_only=True))"
      ]
    },
    {
      "cell_type": "markdown",
      "metadata": {
        "id": "j_w22NiblVbp"
      },
      "source": [
        "This model can now be used to make predictions.\n"
      ]
    },
    {
      "cell_type": "code",
      "execution_count": null,
      "metadata": {
        "id": "s8PjIcQplVbp"
      },
      "outputs": [],
      "source": [
        "classes = [\n",
        "    \"T-shirt/top\",\n",
        "    \"Trouser\",\n",
        "    \"Pullover\",\n",
        "    \"Dress\",\n",
        "    \"Coat\",\n",
        "    \"Sandal\",\n",
        "    \"Shirt\",\n",
        "    \"Sneaker\",\n",
        "    \"Bag\",\n",
        "    \"Ankle boot\",\n",
        "]\n",
        "\n",
        "model.eval()\n",
        "x, y = test_data[0][0], test_data[0][1]\n",
        "with torch.no_grad():\n",
        "    x = x.to(device)\n",
        "    pred = model(x)\n",
        "    predicted, actual = classes[pred[0].argmax(0)], classes[y]\n",
        "    print(f'Predicted: \"{predicted}\", Actual: \"{actual}\"')"
      ]
    },
    {
      "cell_type": "markdown",
      "metadata": {
        "id": "TkpIa2TLlVbp"
      },
      "source": [
        "Read more about [Saving & Loading your\n",
        "model](saveloadrun_tutorial.html).\n"
      ]
    }
  ],
  "metadata": {
    "kernelspec": {
      "display_name": "Python 3",
      "language": "python",
      "name": "python3"
    },
    "language_info": {
      "codemirror_mode": {
        "name": "ipython",
        "version": 3
      },
      "file_extension": ".py",
      "mimetype": "text/x-python",
      "name": "python",
      "nbconvert_exporter": "python",
      "pygments_lexer": "ipython3",
      "version": "3.10.12"
    },
    "colab": {
      "provenance": [],
      "include_colab_link": true
    }
  },
  "nbformat": 4,
  "nbformat_minor": 0
}